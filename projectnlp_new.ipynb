{
  "cells": [
    {
      "cell_type": "markdown",
      "metadata": {
        "id": "69nlbFfSQbtI"
      },
      "source": [
        "# **Detect bullying in tweets**"
      ]
    },
    {
      "cell_type": "markdown",
      "metadata": {
        "id": "At_1tTpNQ4xa"
      },
      "source": [
        "## 1. Colab Setup"
      ]
    },
    {
      "cell_type": "code",
      "execution_count": 1,
      "metadata": {
        "id": "w6o8-g0tEqNz"
      },
      "outputs": [],
      "source": [
        "# Install PySpark and Spark NLP\n",
        "!pip install -q pyspark==3.1.2 spark-nlp"
      ]
    },
    {
      "cell_type": "code",
      "execution_count": 2,
      "metadata": {
        "id": "yMmT9S6mE0ad"
      },
      "outputs": [],
      "source": [
        "import pandas as pd\n",
        "import numpy as np\n",
        "from pyspark.ml import Pipeline\n",
        "from pyspark.sql import SparkSession\n",
        "from sparknlp.annotator import *\n",
        "from sparknlp.base import *\n",
        "from pyspark.ml.feature import *\n",
        "import sparknlp\n",
        "from sparknlp.pretrained import PretrainedPipeline"
      ]
    },
    {
      "cell_type": "markdown",
      "metadata": {
        "id": "ohBO_O8IQ7Ib"
      },
      "source": [
        "## 2. Start Spark Session"
      ]
    },
    {
      "cell_type": "code",
      "execution_count": 3,
      "metadata": {
        "id": "4zBXbY_vE2ss"
      },
      "outputs": [],
      "source": [
        "spark = sparknlp.start(gpu = True)"
      ]
    },
    {
      "cell_type": "markdown",
      "metadata": {
        "id": "XdltrQa6Q98p"
      },
      "source": [
        "## 3. Select the DL model"
      ]
    },
    {
      "cell_type": "markdown",
      "metadata": {
        "id": "lNL-WnVoRCOr"
      },
      "source": [
        "## 4. Some sample examples"
      ]
    },
    {
      "cell_type": "code",
      "execution_count": 4,
      "metadata": {
        "id": "GJ7GCD0pFDvP",
        "colab": {
          "base_uri": "https://localhost:8080/"
        },
        "outputId": "6bd33b09-a174-4aa3-b065-b4be50ff6ddc"
      },
      "outputs": [
        {
          "output_type": "stream",
          "name": "stdout",
          "text": [
            "Looking in indexes: https://pypi.org/simple, https://us-python.pkg.dev/colab-wheels/public/simple/\n",
            "Collecting demoji\n",
            "  Downloading demoji-1.1.0-py3-none-any.whl (42 kB)\n",
            "\u001b[K     |████████████████████████████████| 42 kB 1.4 MB/s \n",
            "\u001b[?25hInstalling collected packages: demoji\n",
            "Successfully installed demoji-1.1.0\n"
          ]
        }
      ],
      "source": [
        "!pip install demoji"
      ]
    },
    {
      "cell_type": "code",
      "execution_count": 100,
      "metadata": {
        "id": "mAQ4vnSWcDJV",
        "colab": {
          "base_uri": "https://localhost:8080/"
        },
        "outputId": "0d493c01-31f4-47ed-f938-f1d7f0baa1af"
      },
      "outputs": [
        {
          "output_type": "execute_result",
          "data": {
            "text/plain": [
              "(47692, 2)"
            ]
          },
          "metadata": {},
          "execution_count": 100
        }
      ],
      "source": [
        "import demoji\n",
        "import re\n",
        "import pandas as pd\n",
        "import string\n",
        "pd_data = pd.read_csv('/content/tweets.csv')\n",
        "pd_data.shape"
      ]
    },
    {
      "cell_type": "code",
      "execution_count": 101,
      "metadata": {
        "id": "nfcZUZBklK7w"
      },
      "outputs": [],
      "source": [
        "def clean(text):\n",
        "    # pattern = re.compile(r\"(#[A-Za-z0-9]+|@[A-Za-z0-9]+|https?:\\/\\/\\S+|www\\.\\S+|\\S+\\.[a-z]+|RT @|)\")\n",
        "    # text = pattern.sub('', text)\n",
        "    text = re.sub(r'[^\\w\\s]', '', text) #removing punctuations\n",
        "    # text = re.sub(r'[\\s]+', ' ',text) # removing extra spaces\n",
        "    emoji = demoji.findall(text)\n",
        "    for emot in emoji:\n",
        "        text = re.sub(r\"(%s)\" % (emot), \"_\".join(emoji[emot].split()), text)\n",
        "    return text\n",
        "pd_data['tweet_text'] = pd_data['tweet_text'].apply(lambda text: clean(text))\n",
        "# pd_data['tweet_text'] = pd_data['tweet_text'].apply(lambda x: ' '.join([w for w in x.spilt() if len(w)>3]))"
      ]
    },
    {
      "cell_type": "code",
      "execution_count": 102,
      "metadata": {
        "id": "G9LCE804lhuX",
        "colab": {
          "base_uri": "https://localhost:8080/"
        },
        "outputId": "0fff7df5-fb02-4476-a507-bf34c5c1bcc4"
      },
      "outputs": [
        {
          "output_type": "stream",
          "name": "stdout",
          "text": [
            "+---------------------------------------------------------+------------------+\n",
            "|tweet_text                                               |cyberbullying_type|\n",
            "+---------------------------------------------------------+------------------+\n",
            "|In other words katandandre your food was crapilicious mkr|not_cyberbullying |\n",
            "+---------------------------------------------------------+------------------+\n",
            "only showing top 1 row\n",
            "\n"
          ]
        }
      ],
      "source": [
        "data = spark.createDataFrame(pd_data)\n",
        "data.show(1,False)"
      ]
    },
    {
      "cell_type": "code",
      "execution_count": 103,
      "metadata": {
        "id": "xerBq9yHeG5Q",
        "colab": {
          "base_uri": "https://localhost:8080/"
        },
        "outputId": "7cc86d35-cd5b-4cb8-837c-e4e6bf1bec86"
      },
      "outputs": [
        {
          "output_type": "execute_result",
          "data": {
            "text/plain": [
              "45959"
            ]
          },
          "metadata": {},
          "execution_count": 103
        }
      ],
      "source": [
        "data = data.dropDuplicates(['tweet_text'])\n",
        "data.count()"
      ]
    },
    {
      "cell_type": "code",
      "execution_count": 104,
      "metadata": {
        "id": "zPWFz9LvliyN"
      },
      "outputs": [],
      "source": [
        "train, test = data.randomSplit([0.90,0.10],4192)"
      ]
    },
    {
      "cell_type": "code",
      "execution_count": 105,
      "metadata": {
        "id": "l0PrIiqKxHrn",
        "colab": {
          "base_uri": "https://localhost:8080/"
        },
        "outputId": "ca17145b-4079-4182-8ba6-284efb3be2fb"
      },
      "outputs": [
        {
          "output_type": "execute_result",
          "data": {
            "text/plain": [
              "age                    7195\n",
              "religion               7157\n",
              "ethnicity              7155\n",
              "not_cyberbullying      7140\n",
              "gender                 7106\n",
              "other_cyberbullying    5637\n",
              "Name: cyberbullying_type, dtype: int64"
            ]
          },
          "metadata": {},
          "execution_count": 105
        }
      ],
      "source": [
        "train.toPandas()['cyberbullying_type'].value_counts()"
      ]
    },
    {
      "cell_type": "markdown",
      "metadata": {
        "id": "wKvXxQhsRFSh"
      },
      "source": [
        "## 5. Define Spark NLP pipeline"
      ]
    },
    {
      "cell_type": "code",
      "execution_count": 106,
      "metadata": {
        "id": "o544hotEGLj2",
        "colab": {
          "base_uri": "https://localhost:8080/"
        },
        "outputId": "6cc1a6ca-f283-479d-cc40-0b187dbeff14"
      },
      "outputs": [
        {
          "output_type": "stream",
          "name": "stdout",
          "text": [
            "tfhub_use_lg download started this may take some time.\n",
            "Approximate size to download 753.3 MB\n",
            "[OK!]\n"
          ]
        }
      ],
      "source": [
        "documentAssembler = DocumentAssembler()\\\n",
        "    .setInputCol(\"tweet_text\")\\\n",
        "    .setOutputCol(\"document\")\n",
        "\n",
        "use = UniversalSentenceEncoder.pretrained(name=\"tfhub_use_lg\", lang=\"en\")\\\n",
        " .setInputCols(\"document\")\\\n",
        " .setOutputCol(\"sentence_embeddings\")\\\n",
        "\n",
        "# tokenizer = sparknlp.annotator.token.tokenize.Tokenizer() \\\n",
        "#                 .setInputCols([\"document\"]) \\\n",
        "#                 .setOutputCol(\"token\")\n",
        "      \n",
        "# bert_embeddings = BertEmbeddings().pretrained(name='small_bert_L4_256', lang='en') \\\n",
        "#                 .setInputCols([\"document\",'token'])\\\n",
        "#                 .setOutputCol(\"embeddings\")\n",
        "\n",
        "\n",
        "classifierdl = ClassifierDLApproach()\\\n",
        "  .setInputCols([\"sentence_embeddings\"])\\\n",
        "  .setOutputCol(\"class\")\\\n",
        "  .setLabelColumn(\"cyberbullying_type\")\\\n",
        "  .setBatchSize(16)\\\n",
        "  .setMaxEpochs(42)\\\n",
        "  .setDropout(0.4) \\\n",
        "  .setEnableOutputLogs(True)\\\n",
        "  .setLr(4e-3) \n",
        "use_clf_pipeline = Pipeline(\n",
        "    stages = [documentAssembler,\n",
        "        use,\n",
        "        classifierdl])"
      ]
    },
    {
      "cell_type": "code",
      "source": [
        "! rm -r /root/annotator_logs"
      ],
      "metadata": {
        "id": "1jkjthWdHjMq"
      },
      "execution_count": 107,
      "outputs": []
    },
    {
      "cell_type": "markdown",
      "metadata": {
        "id": "xHX_4kmDRIYG"
      },
      "source": [
        "## 6. Run the pipeline"
      ]
    },
    {
      "cell_type": "code",
      "execution_count": 108,
      "metadata": {
        "id": "mu8-zrx8RP6h"
      },
      "outputs": [],
      "source": [
        "pipelineModel = use_clf_pipeline.fit(train)"
      ]
    },
    {
      "cell_type": "code",
      "source": [
        "log_files = os.listdir(\"/root/annotator_logs\")\n",
        "log_files"
      ],
      "metadata": {
        "colab": {
          "base_uri": "https://localhost:8080/"
        },
        "id": "EpA5P-EIHh5u",
        "outputId": "71c40c4b-2401-4716-8979-7069fc24528b"
      },
      "execution_count": 109,
      "outputs": [
        {
          "output_type": "execute_result",
          "data": {
            "text/plain": [
              "['ClassifierDLApproach_9d801c5766c0.log']"
            ]
          },
          "metadata": {},
          "execution_count": 109
        }
      ]
    },
    {
      "cell_type": "code",
      "execution_count": null,
      "metadata": {
        "id": "FYqt1khkISjV",
        "outputId": "40f7a5b0-e631-49ee-f258-848ea7bac3e9",
        "colab": {
          "base_uri": "https://localhost:8080/"
        }
      },
      "outputs": [
        {
          "output_type": "execute_result",
          "data": {
            "text/plain": [
              "[DocumentAssembler_e0cbf13231c2,\n",
              " UNIVERSAL_SENTENCE_ENCODER_5e0d8b922c74,\n",
              " ClassifierDLModel_8b8dcf894745]"
            ]
          },
          "metadata": {},
          "execution_count": 46
        }
      ],
      "source": [
        "pipelineModel.stages"
      ]
    },
    {
      "cell_type": "code",
      "execution_count": 61,
      "metadata": {
        "id": "d82o4s-KAwSL"
      },
      "outputs": [],
      "source": [
        "pipelineModel.stages[2].write().overwrite().save(\"/content/drive/MyDrive/NLP/model\")"
      ]
    },
    {
      "cell_type": "code",
      "execution_count": 110,
      "metadata": {
        "colab": {
          "base_uri": "https://localhost:8080/"
        },
        "id": "zhtMMyeDQiZw",
        "outputId": "e86718e4-fdd5-48e8-8c8a-c4efd1debfbe"
      },
      "outputs": [
        {
          "output_type": "stream",
          "name": "stdout",
          "text": [
            "Training started - epochs: 42 - learning_rate: 0.004 - batch_size: 16 - training_examples: 41389 - classes: 6\n",
            "Epoch 0/42 - 5.19s - loss: 3252.3345 - acc: 0.7725865 - batches: 2587\n",
            "Epoch 1/42 - 4.81s - loss: 3131.0315 - acc: 0.81979334 - batches: 2587\n",
            "Epoch 2/42 - 4.85s - loss: 3095.2124 - acc: 0.8350977 - batches: 2587\n",
            "Epoch 3/42 - 4.75s - loss: 3070.1501 - acc: 0.84705555 - batches: 2587\n",
            "Epoch 4/42 - 4.95s - loss: 3053.4421 - acc: 0.85505533 - batches: 2587\n",
            "Epoch 5/42 - 4.76s - loss: 3037.3408 - acc: 0.86121833 - batches: 2587\n",
            "Epoch 6/42 - 4.74s - loss: 3019.79 - acc: 0.86733854 - batches: 2587\n",
            "Epoch 7/42 - 4.74s - loss: 3006.9102 - acc: 0.87125385 - batches: 2587\n",
            "Epoch 8/42 - 4.83s - loss: 2996.5403 - acc: 0.875 - batches: 2587\n",
            "Epoch 9/42 - 4.78s - loss: 2988.2385 - acc: 0.8781903 - batches: 2587\n",
            "Epoch 10/42 - 4.92s - loss: 2980.568 - acc: 0.88121134 - batches: 2587\n",
            "Epoch 11/42 - 4.76s - loss: 2975.8403 - acc: 0.8830481 - batches: 2587\n",
            "Epoch 12/42 - 4.75s - loss: 2970.9238 - acc: 0.88488495 - batches: 2587\n",
            "Epoch 13/42 - 4.72s - loss: 2966.577 - acc: 0.88640755 - batches: 2587\n",
            "Epoch 14/42 - 4.74s - loss: 2962.3857 - acc: 0.8882444 - batches: 2587\n",
            "Epoch 15/42 - 4.77s - loss: 2958.1548 - acc: 0.88950115 - batches: 2587\n",
            "Epoch 16/42 - 4.74s - loss: 2952.0564 - acc: 0.89104795 - batches: 2587\n",
            "Epoch 17/42 - 4.89s - loss: 2949.4348 - acc: 0.89162797 - batches: 2587\n",
            "Epoch 18/42 - 4.65s - loss: 2948.6577 - acc: 0.8923772 - batches: 2587\n",
            "Epoch 19/42 - 4.69s - loss: 2946.293 - acc: 0.8933923 - batches: 2587\n",
            "Epoch 20/42 - 4.78s - loss: 2943.638 - acc: 0.8939482 - batches: 2587\n",
            "Epoch 21/42 - 4.82s - loss: 2941.5186 - acc: 0.8945282 - batches: 2587\n",
            "Epoch 22/42 - 4.77s - loss: 2940.1875 - acc: 0.89505994 - batches: 2587\n",
            "Epoch 23/42 - 4.84s - loss: 2939.0059 - acc: 0.8957125 - batches: 2587\n",
            "Epoch 24/42 - 4.99s - loss: 2939.148 - acc: 0.89612335 - batches: 2587\n",
            "Epoch 25/42 - 4.70s - loss: 2936.424 - acc: 0.8966551 - batches: 2587\n",
            "Epoch 26/42 - 4.72s - loss: 2935.8296 - acc: 0.8972351 - batches: 2587\n",
            "Epoch 27/42 - 4.82s - loss: 2933.972 - acc: 0.8977668 - batches: 2587\n",
            "Epoch 28/42 - 5.83s - loss: 2932.8843 - acc: 0.89805686 - batches: 2587\n",
            "Epoch 29/42 - 5.09s - loss: 2932.0703 - acc: 0.89837104 - batches: 2587\n",
            "Epoch 30/42 - 4.71s - loss: 2931.567 - acc: 0.89897525 - batches: 2587\n",
            "Epoch 31/42 - 4.73s - loss: 2930.2336 - acc: 0.8993861 - batches: 2587\n",
            "Epoch 32/42 - 4.90s - loss: 2928.9663 - acc: 0.8998453 - batches: 2587\n",
            "Epoch 33/42 - 5.12s - loss: 2929.2488 - acc: 0.90013534 - batches: 2587\n",
            "Epoch 34/42 - 4.90s - loss: 2929.4275 - acc: 0.9003287 - batches: 2587\n",
            "Epoch 35/42 - 4.77s - loss: 2928.2466 - acc: 0.90059453 - batches: 2587\n",
            "Epoch 36/42 - 4.74s - loss: 2928.42 - acc: 0.9006429 - batches: 2587\n",
            "Epoch 37/42 - 4.73s - loss: 2927.7012 - acc: 0.90090877 - batches: 2587\n",
            "Epoch 38/42 - 4.70s - loss: 2927.7004 - acc: 0.9010537 - batches: 2587\n",
            "Epoch 39/42 - 4.75s - loss: 2926.302 - acc: 0.9012954 - batches: 2587\n",
            "Epoch 40/42 - 4.94s - loss: 2925.8257 - acc: 0.90144044 - batches: 2587\n",
            "Epoch 41/42 - 4.71s - loss: 2925.9668 - acc: 0.90165794 - batches: 2587\n",
            "\n"
          ]
        }
      ],
      "source": [
        "import os\n",
        "log_file_name = os.listdir(\"/root/annotator_logs\")[0]\n",
        "\n",
        "with open(\"/root/annotator_logs/\"+log_file_name, \"r\") as log_file :\n",
        "    print(log_file.read())"
      ]
    },
    {
      "cell_type": "code",
      "execution_count": 111,
      "metadata": {
        "id": "ghKhGfgsrB9J"
      },
      "outputs": [],
      "source": [
        "result = pipelineModel.transform(test)"
      ]
    },
    {
      "cell_type": "markdown",
      "metadata": {
        "id": "huwbT786RKuY"
      },
      "source": [
        "## 7. Visualize results"
      ]
    },
    {
      "cell_type": "code",
      "execution_count": null,
      "metadata": {
        "colab": {
          "base_uri": "https://localhost:8080/"
        },
        "id": "Bm0xjK4FnQYe",
        "outputId": "17d36786-8e6b-43b0-fe15-b511987d9887"
      },
      "outputs": [
        {
          "data": {
            "text/plain": [
              "['tweet_text',\n",
              " 'cyberbullying_type',\n",
              " 'document',\n",
              " 'sentence_embeddings',\n",
              " 'class']"
            ]
          },
          "execution_count": 58,
          "metadata": {},
          "output_type": "execute_result"
        }
      ],
      "source": [
        "result.columns"
      ]
    },
    {
      "cell_type": "code",
      "execution_count": 112,
      "metadata": {
        "id": "N9juJevvq3JM"
      },
      "outputs": [],
      "source": [
        "preds_df = result.select('cyberbullying_type','tweet_text',\"class.result\").toPandas()"
      ]
    },
    {
      "cell_type": "code",
      "source": [
        "preds_df['result'] = preds_df['result'].apply(lambda x : x[0])"
      ],
      "metadata": {
        "id": "OAyFH8sIz9GJ"
      },
      "execution_count": 113,
      "outputs": []
    },
    {
      "cell_type": "code",
      "execution_count": 114,
      "metadata": {
        "colab": {
          "base_uri": "https://localhost:8080/"
        },
        "id": "oqq_l2OdxHrs",
        "outputId": "ef7a81bf-3a9e-4090-8d57-f5b31cbfb86c"
      },
      "outputs": [
        {
          "output_type": "stream",
          "name": "stdout",
          "text": [
            "0.8426351499233968\n"
          ]
        }
      ],
      "source": [
        "from sklearn.metrics import classification_report, accuracy_score\n",
        "print (accuracy_score(preds_df['cyberbullying_type'], preds_df['result']))"
      ]
    },
    {
      "cell_type": "code",
      "execution_count": null,
      "metadata": {
        "id": "_ftilreyvcdT"
      },
      "outputs": [],
      "source": [
        "# from sklearn.metrics import classification_report, accuracy_score\n",
        "# print (accuracy_score(preds_df['cyberbullying_type'], preds_df['result']))"
      ]
    },
    {
      "cell_type": "code",
      "execution_count": 115,
      "metadata": {
        "colab": {
          "base_uri": "https://localhost:8080/"
        },
        "id": "EFTMSRq6xHrt",
        "outputId": "9be62e9e-10c3-4656-a735-e7fc73cb9918"
      },
      "outputs": [
        {
          "output_type": "stream",
          "name": "stderr",
          "text": [
            "[nltk_data] Downloading package stopwords to /root/nltk_data...\n",
            "[nltk_data]   Package stopwords is already up-to-date!\n"
          ]
        },
        {
          "output_type": "stream",
          "name": "stdout",
          "text": [
            "+-----------------------------------------------------------------------------------------------------------------------------------------------------------------------------------------------------------------------------------------------------------------------------------------+---------------------+\n",
            "|tweet_text                                                                                                                                                                                                                                                                               |result               |\n",
            "+-----------------------------------------------------------------------------------------------------------------------------------------------------------------------------------------------------------------------------------------------------------------------------------------+---------------------+\n",
            "|priyankac19 narendramodi sponsored troll mrsgandhi                                                                                                                                                                                                                                       |[not_cyberbullying]  |\n",
            "|this is the height of corruption mr narendramodi                                                                                                                                                                                                                                         |[other_cyberbullying]|\n",
            "|f3arl3ssindian narendramodi wish you a great birthday dear mayank                                                                                                                                                                                                                        |[not_cyberbullying]  |\n",
            "|aamaadmiparty party    bjp   great messagelearning n education from great new education model of arvindkejriwal our indian society is learning new thing it is not at all corruption married to one n enjoying with some one else narendramodi pmoindia narendramodiin                   |[religion]           |\n",
            "|what if narendra modi stroked azzyland                                                                                                                                                                                                                                                   |[not_cyberbullying]  |\n",
            "|you are working for rejected payment  of 21 22 we also need 2021 final payment available we dont want to beg n bait we want our well deserved last payment\n",
            "ishan uday 202021 renewel  mamidala90\n",
            "ugcindia nspportal\n",
            "pfmsindia \n",
            "narendramodi\n",
            "himantabiswa ranojpeguassam                  |[not_cyberbullying]  |\n",
            "|pmoindia narendramodi bhupendrapbjp all the compensation paid should be recovered from the bridge contractors                                                                                                                                                                            |[not_cyberbullying]  |\n",
            "|pujayogya darshanik1 psahibsingh jpnadda narendramodi why do you get bothered by the facts on modinomics is modi really an embarrassment for andhbhakts\n",
            "\n",
            "per rbi indias forex reserves are at a twoandahalfyear low                                                                      |[religion]           |\n",
            "|shubhankrmishra why you havewater tanks behind you fcuk liar  that visible foam in yamuna pareli still allow to burn and promised to make electricity out of that pareli narendra modi worked almost one and half decade for gujarat on ground and 30 years for india  no dharna but work|[religion]           |\n",
            "|watch as rishi sunak becomes the first person of indian origin to be named britains prime minister indians along with by prime minister narendra modi offer congratulations httpstcoqlb5556qil httpstcobxxeuszwcz                                                                        |[not_cyberbullying]  |\n",
            "+-----------------------------------------------------------------------------------------------------------------------------------------------------------------------------------------------------------------------------------------------------------------------------------------+---------------------+\n",
            "\n"
          ]
        }
      ],
      "source": [
        "df = pd.read_csv('/content/tweet.csv')\n",
        "import nltk\n",
        "nltk.download('stopwords')\n",
        "from nltk.corpus import stopwords\n",
        "sw = set(stopwords.words('english'))\n",
        "sw.remove('not')\n",
        "sw.update(['rt', 'mkr', 'didn', 'bc', 'n', 'm', \n",
        "                  'im', 'll', 'y', 've', 'u', 'ur', 'don', \n",
        "                  'p', 't', 's', 'aren', 'kp', 'o', 'kat', \n",
        "                  'de', 're', 'amp', 'will', 'wa', 'e', 'like'])\n",
        "def clean_new(text):\n",
        "    # pattern = re.compile(r\"(#[A-Za-z0-9]+|@\\w+|https?://\\S+|www\\.\\S+|\\S+\\.[a-z]+|RT @|[^\\x00-\\x7F]+)\")\n",
        "    # text = pattern.sub('', text)\n",
        "    text = text.lower()\n",
        "    remove_punc = re.compile(r\"[%s]\" % re.escape(string.punctuation))\n",
        "    text = remove_punc.sub('', text)\n",
        "    text = re.sub(r'[^\\x00-\\x7F]+', '', text)\n",
        "    # text = ' '.join([word for word in text.split() if word not in sw])\n",
        "    text = text.strip()\n",
        "    return text\n",
        "df['tweet_text'] = df['tweet_text'].apply(lambda text: clean_new(text))\n",
        "new_data = spark.createDataFrame(df)\n",
        "predictions = pipelineModel.transform(new_data)\n",
        "pred =predictions.select('tweet_text',\"class.result\")\n",
        "pred.show(truncate=False)"
      ]
    },
    {
      "cell_type": "code",
      "execution_count": 116,
      "metadata": {
        "colab": {
          "base_uri": "https://localhost:8080/",
          "height": 81
        },
        "id": "atsCcn5rxHrt",
        "outputId": "794e981f-d8ca-44cf-a53f-871c33d5bf8a"
      },
      "outputs": [
        {
          "output_type": "execute_result",
          "data": {
            "text/plain": [
              "                                          tweet_text       result\n",
              "0  the anonymous user posted a series of inflamma...  [ethnicity]"
            ],
            "text/html": [
              "\n",
              "  <div id=\"df-f8e20887-1b46-4767-94bc-ed2959c9c40c\">\n",
              "    <div class=\"colab-df-container\">\n",
              "      <div>\n",
              "<style scoped>\n",
              "    .dataframe tbody tr th:only-of-type {\n",
              "        vertical-align: middle;\n",
              "    }\n",
              "\n",
              "    .dataframe tbody tr th {\n",
              "        vertical-align: top;\n",
              "    }\n",
              "\n",
              "    .dataframe thead th {\n",
              "        text-align: right;\n",
              "    }\n",
              "</style>\n",
              "<table border=\"1\" class=\"dataframe\">\n",
              "  <thead>\n",
              "    <tr style=\"text-align: right;\">\n",
              "      <th></th>\n",
              "      <th>tweet_text</th>\n",
              "      <th>result</th>\n",
              "    </tr>\n",
              "  </thead>\n",
              "  <tbody>\n",
              "    <tr>\n",
              "      <th>0</th>\n",
              "      <td>the anonymous user posted a series of inflamma...</td>\n",
              "      <td>[ethnicity]</td>\n",
              "    </tr>\n",
              "  </tbody>\n",
              "</table>\n",
              "</div>\n",
              "      <button class=\"colab-df-convert\" onclick=\"convertToInteractive('df-f8e20887-1b46-4767-94bc-ed2959c9c40c')\"\n",
              "              title=\"Convert this dataframe to an interactive table.\"\n",
              "              style=\"display:none;\">\n",
              "        \n",
              "  <svg xmlns=\"http://www.w3.org/2000/svg\" height=\"24px\"viewBox=\"0 0 24 24\"\n",
              "       width=\"24px\">\n",
              "    <path d=\"M0 0h24v24H0V0z\" fill=\"none\"/>\n",
              "    <path d=\"M18.56 5.44l.94 2.06.94-2.06 2.06-.94-2.06-.94-.94-2.06-.94 2.06-2.06.94zm-11 1L8.5 8.5l.94-2.06 2.06-.94-2.06-.94L8.5 2.5l-.94 2.06-2.06.94zm10 10l.94 2.06.94-2.06 2.06-.94-2.06-.94-.94-2.06-.94 2.06-2.06.94z\"/><path d=\"M17.41 7.96l-1.37-1.37c-.4-.4-.92-.59-1.43-.59-.52 0-1.04.2-1.43.59L10.3 9.45l-7.72 7.72c-.78.78-.78 2.05 0 2.83L4 21.41c.39.39.9.59 1.41.59.51 0 1.02-.2 1.41-.59l7.78-7.78 2.81-2.81c.8-.78.8-2.07 0-2.86zM5.41 20L4 18.59l7.72-7.72 1.47 1.35L5.41 20z\"/>\n",
              "  </svg>\n",
              "      </button>\n",
              "      \n",
              "  <style>\n",
              "    .colab-df-container {\n",
              "      display:flex;\n",
              "      flex-wrap:wrap;\n",
              "      gap: 12px;\n",
              "    }\n",
              "\n",
              "    .colab-df-convert {\n",
              "      background-color: #E8F0FE;\n",
              "      border: none;\n",
              "      border-radius: 50%;\n",
              "      cursor: pointer;\n",
              "      display: none;\n",
              "      fill: #1967D2;\n",
              "      height: 32px;\n",
              "      padding: 0 0 0 0;\n",
              "      width: 32px;\n",
              "    }\n",
              "\n",
              "    .colab-df-convert:hover {\n",
              "      background-color: #E2EBFA;\n",
              "      box-shadow: 0px 1px 2px rgba(60, 64, 67, 0.3), 0px 1px 3px 1px rgba(60, 64, 67, 0.15);\n",
              "      fill: #174EA6;\n",
              "    }\n",
              "\n",
              "    [theme=dark] .colab-df-convert {\n",
              "      background-color: #3B4455;\n",
              "      fill: #D2E3FC;\n",
              "    }\n",
              "\n",
              "    [theme=dark] .colab-df-convert:hover {\n",
              "      background-color: #434B5C;\n",
              "      box-shadow: 0px 1px 3px 1px rgba(0, 0, 0, 0.15);\n",
              "      filter: drop-shadow(0px 1px 2px rgba(0, 0, 0, 0.3));\n",
              "      fill: #FFFFFF;\n",
              "    }\n",
              "  </style>\n",
              "\n",
              "      <script>\n",
              "        const buttonEl =\n",
              "          document.querySelector('#df-f8e20887-1b46-4767-94bc-ed2959c9c40c button.colab-df-convert');\n",
              "        buttonEl.style.display =\n",
              "          google.colab.kernel.accessAllowed ? 'block' : 'none';\n",
              "\n",
              "        async function convertToInteractive(key) {\n",
              "          const element = document.querySelector('#df-f8e20887-1b46-4767-94bc-ed2959c9c40c');\n",
              "          const dataTable =\n",
              "            await google.colab.kernel.invokeFunction('convertToInteractive',\n",
              "                                                     [key], {});\n",
              "          if (!dataTable) return;\n",
              "\n",
              "          const docLinkHtml = 'Like what you see? Visit the ' +\n",
              "            '<a target=\"_blank\" href=https://colab.research.google.com/notebooks/data_table.ipynb>data table notebook</a>'\n",
              "            + ' to learn more about interactive tables.';\n",
              "          element.innerHTML = '';\n",
              "          dataTable['output_type'] = 'display_data';\n",
              "          await google.colab.output.renderOutput(dataTable, element);\n",
              "          const docLink = document.createElement('div');\n",
              "          docLink.innerHTML = docLinkHtml;\n",
              "          element.appendChild(docLink);\n",
              "        }\n",
              "      </script>\n",
              "    </div>\n",
              "  </div>\n",
              "  "
            ]
          },
          "metadata": {},
          "execution_count": 116
        }
      ],
      "source": [
        "sent = clean_new('The anonymous user posted a series of inflammatory comments on a forum dedicated to discussing racial issues, using racial slurs and promoting harmful stereotypes about black people.')\n",
        "new_data = spark.createDataFrame(pd.DataFrame([sent],columns=['tweet_text']))\n",
        "predictions = pipelineModel.transform(new_data)\n",
        "predictions.select('tweet_text',\"class.result\").toPandas()"
      ]
    },
    {
      "cell_type": "code",
      "execution_count": null,
      "metadata": {
        "id": "zsJruzczLZmQ"
      },
      "outputs": [],
      "source": [
        "# df = pd.read_csv('../input/testdf/tweet.csv')\n",
        "# df['tweet_text'] = df['tweet_text'].apply(lambda text: clean(text))\n",
        "# new_data = spark.createDataFrame(df)\n",
        "# predictions = pipelineModel.transform(new_data)\n",
        "# predictions.select('tweet_text',\"class.result\").toPandas()"
      ]
    },
    {
      "cell_type": "code",
      "execution_count": 66,
      "metadata": {
        "id": "kwHlXODfDHyL"
      },
      "outputs": [],
      "source": [
        "clss_model = ClassifierDLModel.load('/content/drive/MyDrive/NLP/model')\\\n",
        ".setInputCols(['sentence_embeddings'])\\\n",
        ".setOutputCol(\"class\")\n",
        "\n",
        "nlpPipeline = Pipeline(stages=[documentAssembler, use, clss_model])\n",
        "light_pipeline = LightPipeline(nlpPipeline.fit(spark.createDataFrame([['']]).toDF(\"text\")))\n",
        "ld_preds = light_pipeline.transform(new_data)\n"
      ]
    },
    {
      "cell_type": "code",
      "execution_count": 67,
      "metadata": {
        "id": "nS3FOAfjFJ_9"
      },
      "outputs": [],
      "source": [
        "ld_preds_df = ld_preds.select('tweet_text',\"class.result\").toPandas()"
      ]
    },
    {
      "cell_type": "code",
      "execution_count": 68,
      "metadata": {
        "id": "rScyIXWxIygD",
        "colab": {
          "base_uri": "https://localhost:8080/",
          "height": 81
        },
        "outputId": "068bbe18-c0c1-4283-f2e3-8cfb094cc89c"
      },
      "outputs": [
        {
          "output_type": "execute_result",
          "data": {
            "text/plain": [
              "                                          tweet_text      result\n",
              "0  your jewish faith is disgusting and inferior y...  [religion]"
            ],
            "text/html": [
              "\n",
              "  <div id=\"df-1058de48-22e3-42ae-90ad-82a17fb58dea\">\n",
              "    <div class=\"colab-df-container\">\n",
              "      <div>\n",
              "<style scoped>\n",
              "    .dataframe tbody tr th:only-of-type {\n",
              "        vertical-align: middle;\n",
              "    }\n",
              "\n",
              "    .dataframe tbody tr th {\n",
              "        vertical-align: top;\n",
              "    }\n",
              "\n",
              "    .dataframe thead th {\n",
              "        text-align: right;\n",
              "    }\n",
              "</style>\n",
              "<table border=\"1\" class=\"dataframe\">\n",
              "  <thead>\n",
              "    <tr style=\"text-align: right;\">\n",
              "      <th></th>\n",
              "      <th>tweet_text</th>\n",
              "      <th>result</th>\n",
              "    </tr>\n",
              "  </thead>\n",
              "  <tbody>\n",
              "    <tr>\n",
              "      <th>0</th>\n",
              "      <td>your jewish faith is disgusting and inferior y...</td>\n",
              "      <td>[religion]</td>\n",
              "    </tr>\n",
              "  </tbody>\n",
              "</table>\n",
              "</div>\n",
              "      <button class=\"colab-df-convert\" onclick=\"convertToInteractive('df-1058de48-22e3-42ae-90ad-82a17fb58dea')\"\n",
              "              title=\"Convert this dataframe to an interactive table.\"\n",
              "              style=\"display:none;\">\n",
              "        \n",
              "  <svg xmlns=\"http://www.w3.org/2000/svg\" height=\"24px\"viewBox=\"0 0 24 24\"\n",
              "       width=\"24px\">\n",
              "    <path d=\"M0 0h24v24H0V0z\" fill=\"none\"/>\n",
              "    <path d=\"M18.56 5.44l.94 2.06.94-2.06 2.06-.94-2.06-.94-.94-2.06-.94 2.06-2.06.94zm-11 1L8.5 8.5l.94-2.06 2.06-.94-2.06-.94L8.5 2.5l-.94 2.06-2.06.94zm10 10l.94 2.06.94-2.06 2.06-.94-2.06-.94-.94-2.06-.94 2.06-2.06.94z\"/><path d=\"M17.41 7.96l-1.37-1.37c-.4-.4-.92-.59-1.43-.59-.52 0-1.04.2-1.43.59L10.3 9.45l-7.72 7.72c-.78.78-.78 2.05 0 2.83L4 21.41c.39.39.9.59 1.41.59.51 0 1.02-.2 1.41-.59l7.78-7.78 2.81-2.81c.8-.78.8-2.07 0-2.86zM5.41 20L4 18.59l7.72-7.72 1.47 1.35L5.41 20z\"/>\n",
              "  </svg>\n",
              "      </button>\n",
              "      \n",
              "  <style>\n",
              "    .colab-df-container {\n",
              "      display:flex;\n",
              "      flex-wrap:wrap;\n",
              "      gap: 12px;\n",
              "    }\n",
              "\n",
              "    .colab-df-convert {\n",
              "      background-color: #E8F0FE;\n",
              "      border: none;\n",
              "      border-radius: 50%;\n",
              "      cursor: pointer;\n",
              "      display: none;\n",
              "      fill: #1967D2;\n",
              "      height: 32px;\n",
              "      padding: 0 0 0 0;\n",
              "      width: 32px;\n",
              "    }\n",
              "\n",
              "    .colab-df-convert:hover {\n",
              "      background-color: #E2EBFA;\n",
              "      box-shadow: 0px 1px 2px rgba(60, 64, 67, 0.3), 0px 1px 3px 1px rgba(60, 64, 67, 0.15);\n",
              "      fill: #174EA6;\n",
              "    }\n",
              "\n",
              "    [theme=dark] .colab-df-convert {\n",
              "      background-color: #3B4455;\n",
              "      fill: #D2E3FC;\n",
              "    }\n",
              "\n",
              "    [theme=dark] .colab-df-convert:hover {\n",
              "      background-color: #434B5C;\n",
              "      box-shadow: 0px 1px 3px 1px rgba(0, 0, 0, 0.15);\n",
              "      filter: drop-shadow(0px 1px 2px rgba(0, 0, 0, 0.3));\n",
              "      fill: #FFFFFF;\n",
              "    }\n",
              "  </style>\n",
              "\n",
              "      <script>\n",
              "        const buttonEl =\n",
              "          document.querySelector('#df-1058de48-22e3-42ae-90ad-82a17fb58dea button.colab-df-convert');\n",
              "        buttonEl.style.display =\n",
              "          google.colab.kernel.accessAllowed ? 'block' : 'none';\n",
              "\n",
              "        async function convertToInteractive(key) {\n",
              "          const element = document.querySelector('#df-1058de48-22e3-42ae-90ad-82a17fb58dea');\n",
              "          const dataTable =\n",
              "            await google.colab.kernel.invokeFunction('convertToInteractive',\n",
              "                                                     [key], {});\n",
              "          if (!dataTable) return;\n",
              "\n",
              "          const docLinkHtml = 'Like what you see? Visit the ' +\n",
              "            '<a target=\"_blank\" href=https://colab.research.google.com/notebooks/data_table.ipynb>data table notebook</a>'\n",
              "            + ' to learn more about interactive tables.';\n",
              "          element.innerHTML = '';\n",
              "          dataTable['output_type'] = 'display_data';\n",
              "          await google.colab.output.renderOutput(dataTable, element);\n",
              "          const docLink = document.createElement('div');\n",
              "          docLink.innerHTML = docLinkHtml;\n",
              "          element.appendChild(docLink);\n",
              "        }\n",
              "      </script>\n",
              "    </div>\n",
              "  </div>\n",
              "  "
            ]
          },
          "metadata": {},
          "execution_count": 68
        }
      ],
      "source": [
        "ld_preds_df"
      ]
    }
  ],
  "metadata": {
    "accelerator": "GPU",
    "colab": {
      "provenance": []
    },
    "gpuClass": "standard",
    "interpreter": {
      "hash": "45150093197569bb3a58481dcd32cd1adb45462fa3448719e8ac38ada6166aca"
    },
    "kernelspec": {
      "display_name": "Python 3",
      "language": "python",
      "name": "python3"
    },
    "language_info": {
      "codemirror_mode": {
        "name": "ipython",
        "version": 3
      },
      "file_extension": ".py",
      "mimetype": "text/x-python",
      "name": "python",
      "nbconvert_exporter": "python",
      "pygments_lexer": "ipython3",
      "version": "3.7.12"
    }
  },
  "nbformat": 4,
  "nbformat_minor": 0
}