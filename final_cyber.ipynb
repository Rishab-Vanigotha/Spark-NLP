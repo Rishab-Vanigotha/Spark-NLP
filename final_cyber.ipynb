{
  "cells": [
    {
      "cell_type": "code",
      "execution_count": null,
      "metadata": {
        "colab": {
          "base_uri": "https://localhost:8080/"
        },
        "id": "1HeTYfDhOJKC",
        "outputId": "a70c3412-3ee6-467d-e0e2-d3b6ea40adc8"
      },
      "outputs": [
        {
          "output_type": "stream",
          "name": "stdout",
          "text": [
            "Mounted at /content/drive\n"
          ]
        }
      ],
      "source": [
        "from google.colab import drive\n",
        "drive.mount('/content/drive')"
      ]
    },
    {
      "cell_type": "code",
      "execution_count": null,
      "metadata": {
        "id": "lHUJx-vEAa4o",
        "colab": {
          "base_uri": "https://localhost:8080/"
        },
        "outputId": "20ba4c5c-765e-4a4e-db41-45b9e8fa3472"
      },
      "outputs": [
        {
          "output_type": "stream",
          "name": "stdout",
          "text": [
            "\u001b[2K     \u001b[90m━━━━━━━━━━━━━━━━━━━━━━━━━━━━━━━━━━━━━━━\u001b[0m \u001b[32m212.4/212.4 MB\u001b[0m \u001b[31m6.4 MB/s\u001b[0m eta \u001b[36m0:00:00\u001b[0m\n",
            "\u001b[?25h  Preparing metadata (setup.py) ... \u001b[?25l\u001b[?25hdone\n",
            "\u001b[2K     \u001b[90m━━━━━━━━━━━━━━━━━━━━━━━━━━━━━━━━━━━━━━\u001b[0m \u001b[32m471.7/471.7 KB\u001b[0m \u001b[31m37.7 MB/s\u001b[0m eta \u001b[36m0:00:00\u001b[0m\n",
            "\u001b[2K     \u001b[90m━━━━━━━━━━━━━━━━━━━━━━━━━━━━━━━━━━━━━━\u001b[0m \u001b[32m198.6/198.6 KB\u001b[0m \u001b[31m23.1 MB/s\u001b[0m eta \u001b[36m0:00:00\u001b[0m\n",
            "\u001b[?25h  Building wheel for pyspark (setup.py) ... \u001b[?25l\u001b[?25hdone\n"
          ]
        }
      ],
      "source": [
        "!pip install -q pyspark==3.1.2 spark-nlp\n",
        "# !pip install demoji\n",
        "# !pip install nlpaug\n",
        "# !pip install transformers\n",
        "# import nlpaug.augmenter.word as naw"
      ]
    },
    {
      "cell_type": "code",
      "execution_count": null,
      "metadata": {
        "id": "CLwMcUWcAOjk",
        "colab": {
          "base_uri": "https://localhost:8080/"
        },
        "outputId": "c30eadb7-657f-466c-fb4f-675ca7fc61dd"
      },
      "outputs": [
        {
          "output_type": "stream",
          "name": "stderr",
          "text": [
            "[nltk_data] Downloading package stopwords to /root/nltk_data...\n",
            "[nltk_data]   Unzipping corpora/stopwords.zip.\n"
          ]
        }
      ],
      "source": [
        "import re\n",
        "import os\n",
        "import nltk\n",
        "import sparknlp\n",
        "import numpy as np\n",
        "import pandas as pd\n",
        "from sparknlp.base import *\n",
        "from textblob import TextBlob\n",
        "from pyspark.ml import Pipeline\n",
        "from pyspark.ml.feature import *\n",
        "from sparknlp.annotator import *\n",
        "from nltk.corpus import stopwords\n",
        "from pyspark.sql import SparkSession\n",
        "from pyspark.sql.functions import rand\n",
        "from sparknlp.pretrained import PretrainedPipeline\n",
        "from sklearn.metrics import classification_report, accuracy_score\n",
        "np.random.seed(42)\n",
        "spark = sparknlp.start(gpu = True)\n",
        "nltk.download('stopwords')\n",
        "sw = stopwords.words('english')"
      ]
    },
    {
      "cell_type": "code",
      "execution_count": null,
      "metadata": {
        "colab": {
          "base_uri": "https://localhost:8080/",
          "height": 677
        },
        "id": "cIotE1MgBhSZ",
        "outputId": "ecfe24c9-4da3-4bc6-882d-61d5ccce5182"
      },
      "outputs": [
        {
          "output_type": "execute_result",
          "data": {
            "text/plain": [
              "                                              tweet_text   cyberbullying_type\n",
              "32623  when my daughter was bullied and jumped after ...                  age\n",
              "36403  i look better than the girl s that bullied me ...                  age\n",
              "28096  omg watching freebsd committers just rail at g...  other_cyberbullying\n",
              "42217  while the suns photons dont penetrate past 200...            ethnicity\n",
              "26441  now i am unreasonable heh okay in sj terms tha...  other_cyberbullying\n",
              "28738  stupid idiot rr does not deserve to end career...  other_cyberbullying\n",
              "53710  am so not looking forward to going back to school    not_cyberbullying\n",
              "50157                            thank you for that i am    not_cyberbullying\n",
              "12964  just to clear things up i do not skip female c...               gender\n",
              "36346  i watch my little girl live her life after bul...                  age\n",
              "7251   of peace ugh no kidding i miss being able to b...    not_cyberbullying\n",
              "27904  what is funny is that i was drunk when i wrote...  other_cyberbullying\n",
              "34009  period periodt girls chanting saying it over a...                  age\n",
              "50285                                    well that sucks    not_cyberbullying\n",
              "32285  apparently gop is headed by the biggest school...                  age\n",
              "13577  now that is some crazy shit right there don t ...               gender\n",
              "25707  as to if i am working with her that is none of...  other_cyberbullying\n",
              "13742  real friends do not get offended when ou call ...               gender\n",
              "30360  a girl who bullied me for about 5 years throug...                  age\n",
              "5491                                 kellybb follow back    not_cyberbullying"
            ],
            "text/html": [
              "\n",
              "  <div id=\"df-5f8a5cac-da69-4177-8cc6-8b6ac9570686\">\n",
              "    <div class=\"colab-df-container\">\n",
              "      <div>\n",
              "<style scoped>\n",
              "    .dataframe tbody tr th:only-of-type {\n",
              "        vertical-align: middle;\n",
              "    }\n",
              "\n",
              "    .dataframe tbody tr th {\n",
              "        vertical-align: top;\n",
              "    }\n",
              "\n",
              "    .dataframe thead th {\n",
              "        text-align: right;\n",
              "    }\n",
              "</style>\n",
              "<table border=\"1\" class=\"dataframe\">\n",
              "  <thead>\n",
              "    <tr style=\"text-align: right;\">\n",
              "      <th></th>\n",
              "      <th>tweet_text</th>\n",
              "      <th>cyberbullying_type</th>\n",
              "    </tr>\n",
              "  </thead>\n",
              "  <tbody>\n",
              "    <tr>\n",
              "      <th>32623</th>\n",
              "      <td>when my daughter was bullied and jumped after ...</td>\n",
              "      <td>age</td>\n",
              "    </tr>\n",
              "    <tr>\n",
              "      <th>36403</th>\n",
              "      <td>i look better than the girl s that bullied me ...</td>\n",
              "      <td>age</td>\n",
              "    </tr>\n",
              "    <tr>\n",
              "      <th>28096</th>\n",
              "      <td>omg watching freebsd committers just rail at g...</td>\n",
              "      <td>other_cyberbullying</td>\n",
              "    </tr>\n",
              "    <tr>\n",
              "      <th>42217</th>\n",
              "      <td>while the suns photons dont penetrate past 200...</td>\n",
              "      <td>ethnicity</td>\n",
              "    </tr>\n",
              "    <tr>\n",
              "      <th>26441</th>\n",
              "      <td>now i am unreasonable heh okay in sj terms tha...</td>\n",
              "      <td>other_cyberbullying</td>\n",
              "    </tr>\n",
              "    <tr>\n",
              "      <th>28738</th>\n",
              "      <td>stupid idiot rr does not deserve to end career...</td>\n",
              "      <td>other_cyberbullying</td>\n",
              "    </tr>\n",
              "    <tr>\n",
              "      <th>53710</th>\n",
              "      <td>am so not looking forward to going back to school</td>\n",
              "      <td>not_cyberbullying</td>\n",
              "    </tr>\n",
              "    <tr>\n",
              "      <th>50157</th>\n",
              "      <td>thank you for that i am</td>\n",
              "      <td>not_cyberbullying</td>\n",
              "    </tr>\n",
              "    <tr>\n",
              "      <th>12964</th>\n",
              "      <td>just to clear things up i do not skip female c...</td>\n",
              "      <td>gender</td>\n",
              "    </tr>\n",
              "    <tr>\n",
              "      <th>36346</th>\n",
              "      <td>i watch my little girl live her life after bul...</td>\n",
              "      <td>age</td>\n",
              "    </tr>\n",
              "    <tr>\n",
              "      <th>7251</th>\n",
              "      <td>of peace ugh no kidding i miss being able to b...</td>\n",
              "      <td>not_cyberbullying</td>\n",
              "    </tr>\n",
              "    <tr>\n",
              "      <th>27904</th>\n",
              "      <td>what is funny is that i was drunk when i wrote...</td>\n",
              "      <td>other_cyberbullying</td>\n",
              "    </tr>\n",
              "    <tr>\n",
              "      <th>34009</th>\n",
              "      <td>period periodt girls chanting saying it over a...</td>\n",
              "      <td>age</td>\n",
              "    </tr>\n",
              "    <tr>\n",
              "      <th>50285</th>\n",
              "      <td>well that sucks</td>\n",
              "      <td>not_cyberbullying</td>\n",
              "    </tr>\n",
              "    <tr>\n",
              "      <th>32285</th>\n",
              "      <td>apparently gop is headed by the biggest school...</td>\n",
              "      <td>age</td>\n",
              "    </tr>\n",
              "    <tr>\n",
              "      <th>13577</th>\n",
              "      <td>now that is some crazy shit right there don t ...</td>\n",
              "      <td>gender</td>\n",
              "    </tr>\n",
              "    <tr>\n",
              "      <th>25707</th>\n",
              "      <td>as to if i am working with her that is none of...</td>\n",
              "      <td>other_cyberbullying</td>\n",
              "    </tr>\n",
              "    <tr>\n",
              "      <th>13742</th>\n",
              "      <td>real friends do not get offended when ou call ...</td>\n",
              "      <td>gender</td>\n",
              "    </tr>\n",
              "    <tr>\n",
              "      <th>30360</th>\n",
              "      <td>a girl who bullied me for about 5 years throug...</td>\n",
              "      <td>age</td>\n",
              "    </tr>\n",
              "    <tr>\n",
              "      <th>5491</th>\n",
              "      <td>kellybb follow back</td>\n",
              "      <td>not_cyberbullying</td>\n",
              "    </tr>\n",
              "  </tbody>\n",
              "</table>\n",
              "</div>\n",
              "      <button class=\"colab-df-convert\" onclick=\"convertToInteractive('df-5f8a5cac-da69-4177-8cc6-8b6ac9570686')\"\n",
              "              title=\"Convert this dataframe to an interactive table.\"\n",
              "              style=\"display:none;\">\n",
              "        \n",
              "  <svg xmlns=\"http://www.w3.org/2000/svg\" height=\"24px\"viewBox=\"0 0 24 24\"\n",
              "       width=\"24px\">\n",
              "    <path d=\"M0 0h24v24H0V0z\" fill=\"none\"/>\n",
              "    <path d=\"M18.56 5.44l.94 2.06.94-2.06 2.06-.94-2.06-.94-.94-2.06-.94 2.06-2.06.94zm-11 1L8.5 8.5l.94-2.06 2.06-.94-2.06-.94L8.5 2.5l-.94 2.06-2.06.94zm10 10l.94 2.06.94-2.06 2.06-.94-2.06-.94-.94-2.06-.94 2.06-2.06.94z\"/><path d=\"M17.41 7.96l-1.37-1.37c-.4-.4-.92-.59-1.43-.59-.52 0-1.04.2-1.43.59L10.3 9.45l-7.72 7.72c-.78.78-.78 2.05 0 2.83L4 21.41c.39.39.9.59 1.41.59.51 0 1.02-.2 1.41-.59l7.78-7.78 2.81-2.81c.8-.78.8-2.07 0-2.86zM5.41 20L4 18.59l7.72-7.72 1.47 1.35L5.41 20z\"/>\n",
              "  </svg>\n",
              "      </button>\n",
              "      \n",
              "  <style>\n",
              "    .colab-df-container {\n",
              "      display:flex;\n",
              "      flex-wrap:wrap;\n",
              "      gap: 12px;\n",
              "    }\n",
              "\n",
              "    .colab-df-convert {\n",
              "      background-color: #E8F0FE;\n",
              "      border: none;\n",
              "      border-radius: 50%;\n",
              "      cursor: pointer;\n",
              "      display: none;\n",
              "      fill: #1967D2;\n",
              "      height: 32px;\n",
              "      padding: 0 0 0 0;\n",
              "      width: 32px;\n",
              "    }\n",
              "\n",
              "    .colab-df-convert:hover {\n",
              "      background-color: #E2EBFA;\n",
              "      box-shadow: 0px 1px 2px rgba(60, 64, 67, 0.3), 0px 1px 3px 1px rgba(60, 64, 67, 0.15);\n",
              "      fill: #174EA6;\n",
              "    }\n",
              "\n",
              "    [theme=dark] .colab-df-convert {\n",
              "      background-color: #3B4455;\n",
              "      fill: #D2E3FC;\n",
              "    }\n",
              "\n",
              "    [theme=dark] .colab-df-convert:hover {\n",
              "      background-color: #434B5C;\n",
              "      box-shadow: 0px 1px 3px 1px rgba(0, 0, 0, 0.15);\n",
              "      filter: drop-shadow(0px 1px 2px rgba(0, 0, 0, 0.3));\n",
              "      fill: #FFFFFF;\n",
              "    }\n",
              "  </style>\n",
              "\n",
              "      <script>\n",
              "        const buttonEl =\n",
              "          document.querySelector('#df-5f8a5cac-da69-4177-8cc6-8b6ac9570686 button.colab-df-convert');\n",
              "        buttonEl.style.display =\n",
              "          google.colab.kernel.accessAllowed ? 'block' : 'none';\n",
              "\n",
              "        async function convertToInteractive(key) {\n",
              "          const element = document.querySelector('#df-5f8a5cac-da69-4177-8cc6-8b6ac9570686');\n",
              "          const dataTable =\n",
              "            await google.colab.kernel.invokeFunction('convertToInteractive',\n",
              "                                                     [key], {});\n",
              "          if (!dataTable) return;\n",
              "\n",
              "          const docLinkHtml = 'Like what you see? Visit the ' +\n",
              "            '<a target=\"_blank\" href=https://colab.research.google.com/notebooks/data_table.ipynb>data table notebook</a>'\n",
              "            + ' to learn more about interactive tables.';\n",
              "          element.innerHTML = '';\n",
              "          dataTable['output_type'] = 'display_data';\n",
              "          await google.colab.output.renderOutput(dataTable, element);\n",
              "          const docLink = document.createElement('div');\n",
              "          docLink.innerHTML = docLinkHtml;\n",
              "          element.appendChild(docLink);\n",
              "        }\n",
              "      </script>\n",
              "    </div>\n",
              "  </div>\n",
              "  "
            ]
          },
          "metadata": {},
          "execution_count": 17
        }
      ],
      "source": [
        "df = pd.read_csv('/content/augumented2.csv')\n",
        "# df.drop('index',axis=1,inplace=True)\n",
        "df.sample(20)\n"
      ]
    },
    {
      "cell_type": "code",
      "source": [
        "not_cyberbullying = df[df['cyberbullying_type']=='not_cyberbullying'].sample(9000)\n",
        "cyberbullying = df[df['cyberbullying_type']!='not_cyberbullying']\n",
        "df = pd.concat([not_cyberbullying,cyberbullying],axis =0)"
      ],
      "metadata": {
        "id": "3Mp0vMy2Km2u"
      },
      "execution_count": null,
      "outputs": []
    },
    {
      "cell_type": "code",
      "execution_count": null,
      "metadata": {
        "id": "USJ1RPxWFYNr",
        "colab": {
          "base_uri": "https://localhost:8080/"
        },
        "outputId": "76f17811-06a7-46cd-8095-a0314d56c591"
      },
      "outputs": [
        {
          "output_type": "stream",
          "name": "stdout",
          "text": [
            "<class 'pandas.core.frame.DataFrame'>\n",
            "Int64Index: 48140 entries, 52786 to 56658\n",
            "Data columns (total 2 columns):\n",
            " #   Column              Non-Null Count  Dtype \n",
            "---  ------              --------------  ----- \n",
            " 0   tweet_text          48140 non-null  object\n",
            " 1   cyberbullying_type  48140 non-null  object\n",
            "dtypes: object(2)\n",
            "memory usage: 1.1+ MB\n"
          ]
        }
      ],
      "source": [
        "df.info()"
      ]
    },
    {
      "cell_type": "code",
      "execution_count": null,
      "metadata": {
        "id": "eZEGbXldFdLs",
        "colab": {
          "base_uri": "https://localhost:8080/"
        },
        "outputId": "d1f57698-d98e-4f5d-9843-9ce78dcc15c4"
      },
      "outputs": [
        {
          "output_type": "execute_result",
          "data": {
            "text/plain": [
              "not_cyberbullying      9000\n",
              "religion               7950\n",
              "age                    7927\n",
              "other_cyberbullying    7873\n",
              "ethnicity              7823\n",
              "gender                 7567\n",
              "Name: cyberbullying_type, dtype: int64"
            ]
          },
          "metadata": {},
          "execution_count": 20
        }
      ],
      "source": [
        "df['cyberbullying_type'].value_counts()"
      ]
    },
    {
      "cell_type": "code",
      "execution_count": null,
      "metadata": {
        "id": "WMOOkCoIGOtb",
        "colab": {
          "base_uri": "https://localhost:8080/"
        },
        "outputId": "e6b74f2f-1823-4f33-ca54-b14d1b55bce3"
      },
      "outputs": [
        {
          "output_type": "stream",
          "name": "stdout",
          "text": [
            "Before -  1\n",
            "After -  0\n"
          ]
        }
      ],
      "source": [
        "print('Before - ', df.duplicated().sum())\n",
        "df.drop_duplicates(subset='tweet_text',inplace=True)\n",
        "print('After - ', df.duplicated().sum())"
      ]
    },
    {
      "cell_type": "code",
      "execution_count": null,
      "metadata": {
        "id": "2sjq2eunMVUh"
      },
      "outputs": [],
      "source": [
        "def textClean(text):\n",
        "  nonAscii = re.sub('[^\\x00-\\x7F]',' ', text)\n",
        "  # nonpunctuation = re.sub(r'[^\\w\\s]', '', nonAscii) #removing punctuations\n",
        "  # nonHttp = re.sub(\"http\\S+\", ' ', non_mention)\n",
        "  # nonCom = re.sub(r'\\ [A-Za-z]*\\.com', ' ', nonHttp)\n",
        "  # nonAlphaNumeric = re.sub(\"[^A-Za-z0-9\\s]\", \" \", nonCom)\n",
        "  # nonExtraSpaces = re.sub('\\s{2,}', \" \", nonAscii)\n",
        "  return nonAscii"
      ]
    },
    {
      "cell_type": "code",
      "execution_count": null,
      "metadata": {
        "id": "YsJ3v2geRHFQ",
        "colab": {
          "base_uri": "https://localhost:8080/",
          "height": 677
        },
        "outputId": "cab0118e-9978-45e7-f042-7b734afb44f0"
      },
      "outputs": [
        {
          "output_type": "execute_result",
          "data": {
            "text/plain": [
              "                                              tweet_text   cyberbullying_type  \\\n",
              "114                               dr tell of escape from    not_cyberbullying   \n",
              "18177  i do not see you doing anything for muslims or...             religion   \n",
              "28325                                   sure ama is here  other_cyberbullying   \n",
              "15718  i like how you jump past misogyny homophobia f...             religion   \n",
              "55008  yeah i remembered reading about that i think s...    not_cyberbullying   \n",
              "11815  lmao we called her out on her gay rape jokes n...               gender   \n",
              "44559  is a carnivore when you stay up all night slee...            ethnicity   \n",
              "16620  noble peace prize winner over equal rights for...             religion   \n",
              "30539  you bullied and mocked a young girl trying to ...                  age   \n",
              "24559                             kyou chan is a bully d  other_cyberbullying   \n",
              "27237                                  i fucking knew it  other_cyberbullying   \n",
              "31864  a lot of the research supports that a student ...                  age   \n",
              "34948  when i was in high school i got bullied for my...                  age   \n",
              "12056  4 reasons why about via both genders r guilty ...               gender   \n",
              "42016  rt fuck obama dumb ass nigger lmao shut yo ass...            ethnicity   \n",
              "27485  putting them both on the same app secret key j...  other_cyberbullying   \n",
              "47637  ok i am off to school i will stop bothering ev...    not_cyberbullying   \n",
              "34254  all the girls who bullied me in high school do...                  age   \n",
              "3724   just be careful that you protect yourself you ...    not_cyberbullying   \n",
              "1028            enimey nope reported by multiple sources    not_cyberbullying   \n",
              "\n",
              "                                            cleaned_text  \n",
              "114                               dr tell of escape from  \n",
              "18177  i do not see you doing anything for muslims or...  \n",
              "28325                                   sure ama is here  \n",
              "15718  i like how you jump past misogyny homophobia f...  \n",
              "55008  yeah i remembered reading about that i think s...  \n",
              "11815  lmao we called her out on her gay rape jokes n...  \n",
              "44559  is a carnivore when you stay up all night slee...  \n",
              "16620  noble peace prize winner over equal rights for...  \n",
              "30539  you bullied and mocked a young girl trying to ...  \n",
              "24559                             kyou chan is a bully d  \n",
              "27237                                  i fucking knew it  \n",
              "31864  a lot of the research supports that a student ...  \n",
              "34948  when i was in high school i got bullied for my...  \n",
              "12056  4 reasons why about via both genders r guilty ...  \n",
              "42016  rt fuck obama dumb ass nigger lmao shut yo ass...  \n",
              "27485  putting them both on the same app secret key j...  \n",
              "47637  ok i am off to school i will stop bothering ev...  \n",
              "34254  all the girls who bullied me in high school do...  \n",
              "3724   just be careful that you protect yourself you ...  \n",
              "1028            enimey nope reported by multiple sources  "
            ],
            "text/html": [
              "\n",
              "  <div id=\"df-46ad9584-42a6-4087-88a2-52ae1ee8a923\">\n",
              "    <div class=\"colab-df-container\">\n",
              "      <div>\n",
              "<style scoped>\n",
              "    .dataframe tbody tr th:only-of-type {\n",
              "        vertical-align: middle;\n",
              "    }\n",
              "\n",
              "    .dataframe tbody tr th {\n",
              "        vertical-align: top;\n",
              "    }\n",
              "\n",
              "    .dataframe thead th {\n",
              "        text-align: right;\n",
              "    }\n",
              "</style>\n",
              "<table border=\"1\" class=\"dataframe\">\n",
              "  <thead>\n",
              "    <tr style=\"text-align: right;\">\n",
              "      <th></th>\n",
              "      <th>tweet_text</th>\n",
              "      <th>cyberbullying_type</th>\n",
              "      <th>cleaned_text</th>\n",
              "    </tr>\n",
              "  </thead>\n",
              "  <tbody>\n",
              "    <tr>\n",
              "      <th>114</th>\n",
              "      <td>dr tell of escape from</td>\n",
              "      <td>not_cyberbullying</td>\n",
              "      <td>dr tell of escape from</td>\n",
              "    </tr>\n",
              "    <tr>\n",
              "      <th>18177</th>\n",
              "      <td>i do not see you doing anything for muslims or...</td>\n",
              "      <td>religion</td>\n",
              "      <td>i do not see you doing anything for muslims or...</td>\n",
              "    </tr>\n",
              "    <tr>\n",
              "      <th>28325</th>\n",
              "      <td>sure ama is here</td>\n",
              "      <td>other_cyberbullying</td>\n",
              "      <td>sure ama is here</td>\n",
              "    </tr>\n",
              "    <tr>\n",
              "      <th>15718</th>\n",
              "      <td>i like how you jump past misogyny homophobia f...</td>\n",
              "      <td>religion</td>\n",
              "      <td>i like how you jump past misogyny homophobia f...</td>\n",
              "    </tr>\n",
              "    <tr>\n",
              "      <th>55008</th>\n",
              "      <td>yeah i remembered reading about that i think s...</td>\n",
              "      <td>not_cyberbullying</td>\n",
              "      <td>yeah i remembered reading about that i think s...</td>\n",
              "    </tr>\n",
              "    <tr>\n",
              "      <th>11815</th>\n",
              "      <td>lmao we called her out on her gay rape jokes n...</td>\n",
              "      <td>gender</td>\n",
              "      <td>lmao we called her out on her gay rape jokes n...</td>\n",
              "    </tr>\n",
              "    <tr>\n",
              "      <th>44559</th>\n",
              "      <td>is a carnivore when you stay up all night slee...</td>\n",
              "      <td>ethnicity</td>\n",
              "      <td>is a carnivore when you stay up all night slee...</td>\n",
              "    </tr>\n",
              "    <tr>\n",
              "      <th>16620</th>\n",
              "      <td>noble peace prize winner over equal rights for...</td>\n",
              "      <td>religion</td>\n",
              "      <td>noble peace prize winner over equal rights for...</td>\n",
              "    </tr>\n",
              "    <tr>\n",
              "      <th>30539</th>\n",
              "      <td>you bullied and mocked a young girl trying to ...</td>\n",
              "      <td>age</td>\n",
              "      <td>you bullied and mocked a young girl trying to ...</td>\n",
              "    </tr>\n",
              "    <tr>\n",
              "      <th>24559</th>\n",
              "      <td>kyou chan is a bully d</td>\n",
              "      <td>other_cyberbullying</td>\n",
              "      <td>kyou chan is a bully d</td>\n",
              "    </tr>\n",
              "    <tr>\n",
              "      <th>27237</th>\n",
              "      <td>i fucking knew it</td>\n",
              "      <td>other_cyberbullying</td>\n",
              "      <td>i fucking knew it</td>\n",
              "    </tr>\n",
              "    <tr>\n",
              "      <th>31864</th>\n",
              "      <td>a lot of the research supports that a student ...</td>\n",
              "      <td>age</td>\n",
              "      <td>a lot of the research supports that a student ...</td>\n",
              "    </tr>\n",
              "    <tr>\n",
              "      <th>34948</th>\n",
              "      <td>when i was in high school i got bullied for my...</td>\n",
              "      <td>age</td>\n",
              "      <td>when i was in high school i got bullied for my...</td>\n",
              "    </tr>\n",
              "    <tr>\n",
              "      <th>12056</th>\n",
              "      <td>4 reasons why about via both genders r guilty ...</td>\n",
              "      <td>gender</td>\n",
              "      <td>4 reasons why about via both genders r guilty ...</td>\n",
              "    </tr>\n",
              "    <tr>\n",
              "      <th>42016</th>\n",
              "      <td>rt fuck obama dumb ass nigger lmao shut yo ass...</td>\n",
              "      <td>ethnicity</td>\n",
              "      <td>rt fuck obama dumb ass nigger lmao shut yo ass...</td>\n",
              "    </tr>\n",
              "    <tr>\n",
              "      <th>27485</th>\n",
              "      <td>putting them both on the same app secret key j...</td>\n",
              "      <td>other_cyberbullying</td>\n",
              "      <td>putting them both on the same app secret key j...</td>\n",
              "    </tr>\n",
              "    <tr>\n",
              "      <th>47637</th>\n",
              "      <td>ok i am off to school i will stop bothering ev...</td>\n",
              "      <td>not_cyberbullying</td>\n",
              "      <td>ok i am off to school i will stop bothering ev...</td>\n",
              "    </tr>\n",
              "    <tr>\n",
              "      <th>34254</th>\n",
              "      <td>all the girls who bullied me in high school do...</td>\n",
              "      <td>age</td>\n",
              "      <td>all the girls who bullied me in high school do...</td>\n",
              "    </tr>\n",
              "    <tr>\n",
              "      <th>3724</th>\n",
              "      <td>just be careful that you protect yourself you ...</td>\n",
              "      <td>not_cyberbullying</td>\n",
              "      <td>just be careful that you protect yourself you ...</td>\n",
              "    </tr>\n",
              "    <tr>\n",
              "      <th>1028</th>\n",
              "      <td>enimey nope reported by multiple sources</td>\n",
              "      <td>not_cyberbullying</td>\n",
              "      <td>enimey nope reported by multiple sources</td>\n",
              "    </tr>\n",
              "  </tbody>\n",
              "</table>\n",
              "</div>\n",
              "      <button class=\"colab-df-convert\" onclick=\"convertToInteractive('df-46ad9584-42a6-4087-88a2-52ae1ee8a923')\"\n",
              "              title=\"Convert this dataframe to an interactive table.\"\n",
              "              style=\"display:none;\">\n",
              "        \n",
              "  <svg xmlns=\"http://www.w3.org/2000/svg\" height=\"24px\"viewBox=\"0 0 24 24\"\n",
              "       width=\"24px\">\n",
              "    <path d=\"M0 0h24v24H0V0z\" fill=\"none\"/>\n",
              "    <path d=\"M18.56 5.44l.94 2.06.94-2.06 2.06-.94-2.06-.94-.94-2.06-.94 2.06-2.06.94zm-11 1L8.5 8.5l.94-2.06 2.06-.94-2.06-.94L8.5 2.5l-.94 2.06-2.06.94zm10 10l.94 2.06.94-2.06 2.06-.94-2.06-.94-.94-2.06-.94 2.06-2.06.94z\"/><path d=\"M17.41 7.96l-1.37-1.37c-.4-.4-.92-.59-1.43-.59-.52 0-1.04.2-1.43.59L10.3 9.45l-7.72 7.72c-.78.78-.78 2.05 0 2.83L4 21.41c.39.39.9.59 1.41.59.51 0 1.02-.2 1.41-.59l7.78-7.78 2.81-2.81c.8-.78.8-2.07 0-2.86zM5.41 20L4 18.59l7.72-7.72 1.47 1.35L5.41 20z\"/>\n",
              "  </svg>\n",
              "      </button>\n",
              "      \n",
              "  <style>\n",
              "    .colab-df-container {\n",
              "      display:flex;\n",
              "      flex-wrap:wrap;\n",
              "      gap: 12px;\n",
              "    }\n",
              "\n",
              "    .colab-df-convert {\n",
              "      background-color: #E8F0FE;\n",
              "      border: none;\n",
              "      border-radius: 50%;\n",
              "      cursor: pointer;\n",
              "      display: none;\n",
              "      fill: #1967D2;\n",
              "      height: 32px;\n",
              "      padding: 0 0 0 0;\n",
              "      width: 32px;\n",
              "    }\n",
              "\n",
              "    .colab-df-convert:hover {\n",
              "      background-color: #E2EBFA;\n",
              "      box-shadow: 0px 1px 2px rgba(60, 64, 67, 0.3), 0px 1px 3px 1px rgba(60, 64, 67, 0.15);\n",
              "      fill: #174EA6;\n",
              "    }\n",
              "\n",
              "    [theme=dark] .colab-df-convert {\n",
              "      background-color: #3B4455;\n",
              "      fill: #D2E3FC;\n",
              "    }\n",
              "\n",
              "    [theme=dark] .colab-df-convert:hover {\n",
              "      background-color: #434B5C;\n",
              "      box-shadow: 0px 1px 3px 1px rgba(0, 0, 0, 0.15);\n",
              "      filter: drop-shadow(0px 1px 2px rgba(0, 0, 0, 0.3));\n",
              "      fill: #FFFFFF;\n",
              "    }\n",
              "  </style>\n",
              "\n",
              "      <script>\n",
              "        const buttonEl =\n",
              "          document.querySelector('#df-46ad9584-42a6-4087-88a2-52ae1ee8a923 button.colab-df-convert');\n",
              "        buttonEl.style.display =\n",
              "          google.colab.kernel.accessAllowed ? 'block' : 'none';\n",
              "\n",
              "        async function convertToInteractive(key) {\n",
              "          const element = document.querySelector('#df-46ad9584-42a6-4087-88a2-52ae1ee8a923');\n",
              "          const dataTable =\n",
              "            await google.colab.kernel.invokeFunction('convertToInteractive',\n",
              "                                                     [key], {});\n",
              "          if (!dataTable) return;\n",
              "\n",
              "          const docLinkHtml = 'Like what you see? Visit the ' +\n",
              "            '<a target=\"_blank\" href=https://colab.research.google.com/notebooks/data_table.ipynb>data table notebook</a>'\n",
              "            + ' to learn more about interactive tables.';\n",
              "          element.innerHTML = '';\n",
              "          dataTable['output_type'] = 'display_data';\n",
              "          await google.colab.output.renderOutput(dataTable, element);\n",
              "          const docLink = document.createElement('div');\n",
              "          docLink.innerHTML = docLinkHtml;\n",
              "          element.appendChild(docLink);\n",
              "        }\n",
              "      </script>\n",
              "    </div>\n",
              "  </div>\n",
              "  "
            ]
          },
          "metadata": {},
          "execution_count": 23
        }
      ],
      "source": [
        "df['cleaned_text'] = df['tweet_text'].apply(textClean)\n",
        "df.sample(20)"
      ]
    },
    {
      "cell_type": "code",
      "execution_count": null,
      "metadata": {
        "id": "PIGByTJTUe-0",
        "colab": {
          "base_uri": "https://localhost:8080/"
        },
        "outputId": "933431ae-5d69-4c90-bf1e-f11d25493eef"
      },
      "outputs": [
        {
          "output_type": "stream",
          "name": "stdout",
          "text": [
            "+---------------------------------------------------------------------------------------------------------+------------------+---------------------------------------------------------------------------------------------------------+\n",
            "|tweet_text                                                                                               |cyberbullying_type|cleaned_text                                                                                             |\n",
            "+---------------------------------------------------------------------------------------------------------+------------------+---------------------------------------------------------------------------------------------------------+\n",
            "|a lot of people say they cannot run because it is too boring but i can daydream for hours about all sorts|not_cyberbullying |a lot of people say they cannot run because it is too boring but i can daydream for hours about all sorts|\n",
            "+---------------------------------------------------------------------------------------------------------+------------------+---------------------------------------------------------------------------------------------------------+\n",
            "only showing top 1 row\n",
            "\n"
          ]
        }
      ],
      "source": [
        "spark_df = spark.createDataFrame(df)\n",
        "spark_df.show(1,False)"
      ]
    },
    {
      "cell_type": "code",
      "execution_count": null,
      "metadata": {
        "id": "aWBanqqsUkXD",
        "colab": {
          "base_uri": "https://localhost:8080/"
        },
        "outputId": "c2afd98b-a22d-473a-958d-58c4eb0dfe05"
      },
      "outputs": [
        {
          "output_type": "stream",
          "name": "stdout",
          "text": [
            "Duplicates 0\n"
          ]
        },
        {
          "output_type": "execute_result",
          "data": {
            "text/plain": [
              "not_cyberbullying      9000\n",
              "religion               7950\n",
              "age                    7927\n",
              "other_cyberbullying    7872\n",
              "ethnicity              7823\n",
              "gender                 7567\n",
              "Name: cyberbullying_type, dtype: int64"
            ]
          },
          "metadata": {},
          "execution_count": 25
        }
      ],
      "source": [
        "print('Duplicates', spark_df.toPandas().duplicated().sum())\n",
        "spark_df.toPandas()['cyberbullying_type'].value_counts()"
      ]
    },
    {
      "cell_type": "code",
      "execution_count": null,
      "metadata": {
        "id": "HvQ9L3HFVfFg"
      },
      "outputs": [],
      "source": [
        "train, test = spark_df.randomSplit([0.90,0.10],43)\n",
        "# train.toPandas()['cyberbullying_type'].value_counts()\n",
        "# test.toPandas()['cyberbullying_type'].value_counts()"
      ]
    },
    {
      "cell_type": "code",
      "execution_count": null,
      "metadata": {
        "id": "os2C1v2WW1Hi",
        "colab": {
          "base_uri": "https://localhost:8080/"
        },
        "outputId": "d1ec5d49-5d72-43b0-8fbc-de6576c00233"
      },
      "outputs": [
        {
          "output_type": "stream",
          "name": "stdout",
          "text": [
            "tfhub_use_lg download started this may take some time.\n",
            "Approximate size to download 753.3 MB\n",
            "[OK!]\n"
          ]
        }
      ],
      "source": [
        "documentAssembler = DocumentAssembler()\\\n",
        "    .setInputCol(\"tweet_text\")\\\n",
        "    .setOutputCol(\"document\")\n",
        "\n",
        "use = UniversalSentenceEncoder.pretrained(name=\"tfhub_use_lg\", lang=\"en\")\\\n",
        " .setInputCols(\"document\")\\\n",
        " .setOutputCol(\"sentence_embeddings\")\\\n",
        " .setDimension(768)\n",
        "\n",
        "# classifierdl = ClassifierDLModel.load('/content/drive/MyDrive/NLP/newdatamodel1')\\\n",
        "# .setInputCols(['sentence_embeddings'])\\\n",
        "# .setOutputCol(\"class\")\n",
        "\n",
        "# Download version\n",
        "classifierdl = ClassifierDLApproach()\\\n",
        "  .setInputCols([\"sentence_embeddings\"])\\\n",
        "  .setOutputCol(\"class\")\\\n",
        "  .setLabelColumn(\"cyberbullying_type\")\\\n",
        "  .setBatchSize(16)\\\n",
        "  .setMaxEpochs(42)\\\n",
        "  .setDropout(0.4) \\\n",
        "  .setEnableOutputLogs(True)\\\n",
        "  .setLr(4e-3)\n",
        "use_clf_pipeline = Pipeline(\n",
        "    stages = [documentAssembler,\n",
        "        use,\n",
        "        classifierdl])"
      ]
    },
    {
      "cell_type": "code",
      "source": [
        "!rm -r /root/annotator_logs"
      ],
      "metadata": {
        "id": "IUfNBKKSELyO",
        "colab": {
          "base_uri": "https://localhost:8080/"
        },
        "outputId": "ea065f9a-2281-44f5-edf7-c296bb2c757c"
      },
      "execution_count": null,
      "outputs": [
        {
          "output_type": "stream",
          "name": "stdout",
          "text": [
            "rm: cannot remove '/root/annotator_logs': No such file or directory\n"
          ]
        }
      ]
    },
    {
      "cell_type": "code",
      "execution_count": null,
      "metadata": {
        "id": "ldaaqcuFW84J",
        "colab": {
          "base_uri": "https://localhost:8080/"
        },
        "outputId": "c6e497a2-ebe0-446e-9c9a-79715fcf9f6d"
      },
      "outputs": [
        {
          "output_type": "stream",
          "name": "stdout",
          "text": [
            "CPU times: user 4.86 s, sys: 432 ms, total: 5.29 s\n",
            "Wall time: 14min 13s\n"
          ]
        }
      ],
      "source": [
        "%%time\n",
        "pipelineModel = use_clf_pipeline.fit(train)"
      ]
    },
    {
      "cell_type": "code",
      "source": [
        "import os\n",
        "log_files = os.listdir(\"/root/annotator_logs\")\n",
        "log_files"
      ],
      "metadata": {
        "id": "yd1MBQeoEM7-",
        "colab": {
          "base_uri": "https://localhost:8080/"
        },
        "outputId": "bed7f661-ea5d-491e-ad85-1a50a9bf4f89"
      },
      "execution_count": null,
      "outputs": [
        {
          "output_type": "execute_result",
          "data": {
            "text/plain": [
              "['ClassifierDLApproach_d57f854b34fd.log']"
            ]
          },
          "metadata": {},
          "execution_count": 30
        }
      ]
    },
    {
      "cell_type": "code",
      "execution_count": null,
      "metadata": {
        "id": "BBUbk8y2Taaq",
        "colab": {
          "base_uri": "https://localhost:8080/"
        },
        "outputId": "6ba4a351-23d8-4450-b7f5-a64a90b8d2a0"
      },
      "outputs": [
        {
          "output_type": "execute_result",
          "data": {
            "text/plain": [
              "[DocumentAssembler_6e7c4bbbb6f0,\n",
              " UNIVERSAL_SENTENCE_ENCODER_5e0d8b922c74,\n",
              " ClassifierDLModel_f932de1f07a0]"
            ]
          },
          "metadata": {},
          "execution_count": 31
        }
      ],
      "source": [
        "pipelineModel.stages"
      ]
    },
    {
      "cell_type": "code",
      "execution_count": null,
      "metadata": {
        "id": "Y6KJCqR4z-4W"
      },
      "outputs": [],
      "source": [
        "# pipelineModel.stages[2].write().overwrite().save(\"/content/drive/MyDrive/NLP/rishabmodels/model_85_perfect\")"
      ]
    },
    {
      "cell_type": "code",
      "execution_count": null,
      "metadata": {
        "id": "9A1PDSIOkGY_"
      },
      "outputs": [],
      "source": [
        "# pipelineModel.save('/content/drive/MyDrive/NLP/rishabmodels/pipelineModel/auc_85_perfect')"
      ]
    },
    {
      "cell_type": "code",
      "source": [
        "!cat ~/annotator_logs/{classifierdl.uid}.log"
      ],
      "metadata": {
        "colab": {
          "base_uri": "https://localhost:8080/"
        },
        "id": "QxWZh3fOWHS5",
        "outputId": "4b72ce65-49df-4101-9489-3563fbce5dca"
      },
      "execution_count": null,
      "outputs": [
        {
          "output_type": "stream",
          "name": "stdout",
          "text": [
            "Training started - epochs: 42 - learning_rate: 0.004 - batch_size: 16 - training_examples: 43400 - classes: 6\n",
            "Epoch 0/42 - 7.04s - loss: 3364.4546 - acc: 0.7922428 - batches: 2713\n",
            "Epoch 1/42 - 5.51s - loss: 3261.3276 - acc: 0.83112097 - batches: 2713\n",
            "Epoch 2/42 - 5.08s - loss: 3226.8735 - acc: 0.84563977 - batches: 2713\n",
            "Epoch 3/42 - 6.17s - loss: 3198.0483 - acc: 0.856356 - batches: 2713\n",
            "Epoch 4/42 - 4.73s - loss: 3179.045 - acc: 0.8640763 - batches: 2713\n",
            "Epoch 5/42 - 5.09s - loss: 3159.7505 - acc: 0.8705522 - batches: 2713\n",
            "Epoch 6/42 - 5.89s - loss: 3149.8582 - acc: 0.8758066 - batches: 2713\n",
            "Epoch 7/42 - 4.79s - loss: 3143.8213 - acc: 0.87986267 - batches: 2713\n",
            "Epoch 8/42 - 5.42s - loss: 3135.4004 - acc: 0.88364214 - batches: 2713\n",
            "Epoch 9/42 - 5.59s - loss: 3124.998 - acc: 0.8870529 - batches: 2713\n",
            "Epoch 10/42 - 4.77s - loss: 3120.2896 - acc: 0.88944966 - batches: 2713\n",
            "Epoch 11/42 - 6.21s - loss: 3115.3665 - acc: 0.89170814 - batches: 2713\n",
            "Epoch 12/42 - 4.90s - loss: 3111.3523 - acc: 0.8937131 - batches: 2713\n",
            "Epoch 13/42 - 5.09s - loss: 3104.7314 - acc: 0.8949115 - batches: 2713\n",
            "Epoch 14/42 - 6.07s - loss: 3100.6953 - acc: 0.89590245 - batches: 2713\n",
            "Epoch 15/42 - 4.83s - loss: 3096.7021 - acc: 0.89723915 - batches: 2713\n",
            "Epoch 16/42 - 5.31s - loss: 3094.053 - acc: 0.8986449 - batches: 2713\n",
            "Epoch 17/42 - 5.56s - loss: 3090.4316 - acc: 0.89926714 - batches: 2713\n",
            "Epoch 18/42 - 5.01s - loss: 3086.797 - acc: 0.9000507 - batches: 2713\n",
            "Epoch 19/42 - 6.15s - loss: 3084.1233 - acc: 0.90097255 - batches: 2713\n",
            "Epoch 20/42 - 4.87s - loss: 3080.353 - acc: 0.90194046 - batches: 2713\n",
            "Epoch 21/42 - 4.82s - loss: 3079.0466 - acc: 0.9023092 - batches: 2713\n",
            "Epoch 22/42 - 6.12s - loss: 3078.65 - acc: 0.9027701 - batches: 2713\n",
            "Epoch 23/42 - 4.98s - loss: 3075.9827 - acc: 0.90330017 - batches: 2713\n",
            "Epoch 24/42 - 5.23s - loss: 3074.4788 - acc: 0.90394545 - batches: 2713\n",
            "Epoch 25/42 - 5.67s - loss: 3071.477 - acc: 0.9044294 - batches: 2713\n",
            "Epoch 26/42 - 4.82s - loss: 3070.8909 - acc: 0.9050286 - batches: 2713\n",
            "Epoch 27/42 - 5.70s - loss: 3067.9946 - acc: 0.90558165 - batches: 2713\n",
            "Epoch 28/42 - 5.23s - loss: 3066.3606 - acc: 0.905743 - batches: 2713\n",
            "Epoch 29/42 - 5.06s - loss: 3066.2634 - acc: 0.9059504 - batches: 2713\n",
            "Epoch 30/42 - 6.21s - loss: 3063.9753 - acc: 0.9064574 - batches: 2713\n",
            "Epoch 31/42 - 4.83s - loss: 3062.0671 - acc: 0.90666485 - batches: 2713\n",
            "Epoch 32/42 - 4.94s - loss: 3061.3264 - acc: 0.9068492 - batches: 2713\n",
            "Epoch 33/42 - 5.99s - loss: 3060.3333 - acc: 0.9071027 - batches: 2713\n",
            "Epoch 34/42 - 4.81s - loss: 3060.2915 - acc: 0.907241 - batches: 2713\n",
            "Epoch 35/42 - 5.51s - loss: 3059.5164 - acc: 0.9074023 - batches: 2713\n",
            "Epoch 36/42 - 5.49s - loss: 3058.9937 - acc: 0.907771 - batches: 2713\n",
            "Epoch 37/42 - 4.69s - loss: 3057.764 - acc: 0.9079093 - batches: 2713\n",
            "Epoch 38/42 - 6.03s - loss: 3057.1514 - acc: 0.90813977 - batches: 2713\n",
            "Epoch 39/42 - 4.89s - loss: 3056.5044 - acc: 0.90827805 - batches: 2713\n",
            "Epoch 40/42 - 4.77s - loss: 3056.4346 - acc: 0.9084163 - batches: 2713\n",
            "Epoch 41/42 - 6.10s - loss: 3055.9644 - acc: 0.90869284 - batches: 2713\n"
          ]
        }
      ]
    },
    {
      "cell_type": "code",
      "execution_count": null,
      "metadata": {
        "id": "1QXnNgn5iTBh",
        "colab": {
          "base_uri": "https://localhost:8080/"
        },
        "outputId": "c1b944a3-0d36-4720-d81e-77c0647dc23c"
      },
      "outputs": [
        {
          "output_type": "stream",
          "name": "stdout",
          "text": [
            "Training started - epochs: 42 - learning_rate: 0.004 - batch_size: 16 - training_examples: 43400 - classes: 6\n",
            "Epoch 0/42 - 7.04s - loss: 3364.4546 - acc: 0.7922428 - batches: 2713\n",
            "Epoch 1/42 - 5.51s - loss: 3261.3276 - acc: 0.83112097 - batches: 2713\n",
            "Epoch 2/42 - 5.08s - loss: 3226.8735 - acc: 0.84563977 - batches: 2713\n",
            "Epoch 3/42 - 6.17s - loss: 3198.0483 - acc: 0.856356 - batches: 2713\n",
            "Epoch 4/42 - 4.73s - loss: 3179.045 - acc: 0.8640763 - batches: 2713\n",
            "Epoch 5/42 - 5.09s - loss: 3159.7505 - acc: 0.8705522 - batches: 2713\n",
            "Epoch 6/42 - 5.89s - loss: 3149.8582 - acc: 0.8758066 - batches: 2713\n",
            "Epoch 7/42 - 4.79s - loss: 3143.8213 - acc: 0.87986267 - batches: 2713\n",
            "Epoch 8/42 - 5.42s - loss: 3135.4004 - acc: 0.88364214 - batches: 2713\n",
            "Epoch 9/42 - 5.59s - loss: 3124.998 - acc: 0.8870529 - batches: 2713\n",
            "Epoch 10/42 - 4.77s - loss: 3120.2896 - acc: 0.88944966 - batches: 2713\n",
            "Epoch 11/42 - 6.21s - loss: 3115.3665 - acc: 0.89170814 - batches: 2713\n",
            "Epoch 12/42 - 4.90s - loss: 3111.3523 - acc: 0.8937131 - batches: 2713\n",
            "Epoch 13/42 - 5.09s - loss: 3104.7314 - acc: 0.8949115 - batches: 2713\n",
            "Epoch 14/42 - 6.07s - loss: 3100.6953 - acc: 0.89590245 - batches: 2713\n",
            "Epoch 15/42 - 4.83s - loss: 3096.7021 - acc: 0.89723915 - batches: 2713\n",
            "Epoch 16/42 - 5.31s - loss: 3094.053 - acc: 0.8986449 - batches: 2713\n",
            "Epoch 17/42 - 5.56s - loss: 3090.4316 - acc: 0.89926714 - batches: 2713\n",
            "Epoch 18/42 - 5.01s - loss: 3086.797 - acc: 0.9000507 - batches: 2713\n",
            "Epoch 19/42 - 6.15s - loss: 3084.1233 - acc: 0.90097255 - batches: 2713\n",
            "Epoch 20/42 - 4.87s - loss: 3080.353 - acc: 0.90194046 - batches: 2713\n",
            "Epoch 21/42 - 4.82s - loss: 3079.0466 - acc: 0.9023092 - batches: 2713\n",
            "Epoch 22/42 - 6.12s - loss: 3078.65 - acc: 0.9027701 - batches: 2713\n",
            "Epoch 23/42 - 4.98s - loss: 3075.9827 - acc: 0.90330017 - batches: 2713\n",
            "Epoch 24/42 - 5.23s - loss: 3074.4788 - acc: 0.90394545 - batches: 2713\n",
            "Epoch 25/42 - 5.67s - loss: 3071.477 - acc: 0.9044294 - batches: 2713\n",
            "Epoch 26/42 - 4.82s - loss: 3070.8909 - acc: 0.9050286 - batches: 2713\n",
            "Epoch 27/42 - 5.70s - loss: 3067.9946 - acc: 0.90558165 - batches: 2713\n",
            "Epoch 28/42 - 5.23s - loss: 3066.3606 - acc: 0.905743 - batches: 2713\n",
            "Epoch 29/42 - 5.06s - loss: 3066.2634 - acc: 0.9059504 - batches: 2713\n",
            "Epoch 30/42 - 6.21s - loss: 3063.9753 - acc: 0.9064574 - batches: 2713\n",
            "Epoch 31/42 - 4.83s - loss: 3062.0671 - acc: 0.90666485 - batches: 2713\n",
            "Epoch 32/42 - 4.94s - loss: 3061.3264 - acc: 0.9068492 - batches: 2713\n",
            "Epoch 33/42 - 5.99s - loss: 3060.3333 - acc: 0.9071027 - batches: 2713\n",
            "Epoch 34/42 - 4.81s - loss: 3060.2915 - acc: 0.907241 - batches: 2713\n",
            "Epoch 35/42 - 5.51s - loss: 3059.5164 - acc: 0.9074023 - batches: 2713\n",
            "Epoch 36/42 - 5.49s - loss: 3058.9937 - acc: 0.907771 - batches: 2713\n",
            "Epoch 37/42 - 4.69s - loss: 3057.764 - acc: 0.9079093 - batches: 2713\n",
            "Epoch 38/42 - 6.03s - loss: 3057.1514 - acc: 0.90813977 - batches: 2713\n",
            "Epoch 39/42 - 4.89s - loss: 3056.5044 - acc: 0.90827805 - batches: 2713\n",
            "Epoch 40/42 - 4.77s - loss: 3056.4346 - acc: 0.9084163 - batches: 2713\n",
            "Epoch 41/42 - 6.10s - loss: 3055.9644 - acc: 0.90869284 - batches: 2713\n",
            "\n"
          ]
        }
      ],
      "source": [
        "import os\n",
        "log_file_name = os.listdir(\"/root/annotator_logs\")[0]\n",
        "\n",
        "with open(\"/root/annotator_logs/\"+log_file_name, \"r\") as log_file :\n",
        "    print(log_file.read())"
      ]
    },
    {
      "cell_type": "code",
      "source": [
        "import matplotlib.pyplot as plt\n",
        "\n",
        "# Read the log file\n",
        "import os\n",
        "log_file_name = os.listdir(\"/root/annotator_logs\")[0]\n",
        "\n",
        "with open(\"/root/annotator_logs/\"+log_file_name, \"r\") as log_file :\n",
        "    lines = log_file.readlines()\n",
        "\n",
        "\n",
        "# Extract the accuracy and loss values for each epoch\n",
        "accuracies = []\n",
        "losses = []\n",
        "for line in lines:\n",
        "    if 'acc:' in line:\n",
        "        accuracy = float(line.split('acc:')[1].split()[0])\n",
        "        accuracies.append(accuracy)\n",
        "    if 'loss:' in line:\n",
        "        loss = float(line.split('loss:')[1].split()[0])\n",
        "        losses.append(loss)\n",
        "\n",
        "# Plot the accuracy and loss vs epoch graph\n",
        "epochs = range(1, len(accuracies) + 1)\n",
        "fig, ax1 = plt.subplots()\n",
        "\n",
        "color = 'tab:red'\n",
        "ax1.set_xlabel('Epoch')\n",
        "ax1.set_ylabel('Accuracy', color=color)\n",
        "ax1.plot(epochs, accuracies, color=color)\n",
        "ax1.tick_params(axis='y', labelcolor=color)\n",
        "\n",
        "ax2 = ax1.twinx()  # instantiate a second axes that shares the same x-axis\n",
        "\n",
        "color = 'tab:blue'\n",
        "ax2.set_ylabel('Loss', color=color)\n",
        "ax2.plot(epochs, losses, color=color)\n",
        "ax2.tick_params(axis='y', labelcolor=color)\n",
        "\n",
        "plt.title('Accuracy and Loss vs Epoch')\n",
        "fig.tight_layout()  # otherwise the right y-label is slightly clipped\n",
        "plt.show()\n"
      ],
      "metadata": {
        "colab": {
          "base_uri": "https://localhost:8080/",
          "height": 297
        },
        "id": "dDmUBpNZCmXU",
        "outputId": "36e7d3d6-07e7-4b70-98ba-82b671c8396b"
      },
      "execution_count": null,
      "outputs": [
        {
          "output_type": "display_data",
          "data": {
            "text/plain": [
              "<Figure size 432x288 with 2 Axes>"
            ],
            "image/png": "[encoded data removed]"
          },
          "metadata": {
            "needs_background": "light"
          }
        }
      ]
    },
    {
      "cell_type": "code",
      "execution_count": null,
      "metadata": {
        "id": "02ZXI-RvXMoQ"
      },
      "outputs": [],
      "source": [
        "result = pipelineModel.transform(test)"
      ]
    },
    {
      "cell_type": "code",
      "execution_count": null,
      "metadata": {
        "id": "QjQF41abf6iu"
      },
      "outputs": [],
      "source": [
        "preds_df = result.select('cyberbullying_type','tweet_text',\"class.result\").toPandas()"
      ]
    },
    {
      "cell_type": "code",
      "execution_count": null,
      "metadata": {
        "id": "z-UtVKg2ZZRE"
      },
      "outputs": [],
      "source": [
        "preds_df['result'] = preds_df['result'].apply(lambda x : x[0])"
      ]
    },
    {
      "cell_type": "code",
      "execution_count": null,
      "metadata": {
        "id": "sJoaynTWZaxX",
        "colab": {
          "base_uri": "https://localhost:8080/"
        },
        "outputId": "ff616628-53ee-4bf4-925a-337e1f430086"
      },
      "outputs": [
        {
          "output_type": "stream",
          "name": "stdout",
          "text": [
            "0.856509812196666\n"
          ]
        }
      ],
      "source": [
        "print(accuracy_score(preds_df['cyberbullying_type'], preds_df['result']))"
      ]
    },
    {
      "cell_type": "code",
      "execution_count": null,
      "metadata": {
        "id": "7HT-L93QgQfg",
        "colab": {
          "base_uri": "https://localhost:8080/"
        },
        "outputId": "5b3ae91f-fad2-46de-8c28-0c90854b76a4"
      },
      "outputs": [
        {
          "output_type": "stream",
          "name": "stdout",
          "text": [
            "                     precision    recall  f1-score   support\n",
            "\n",
            "                age       0.95      0.97      0.96       800\n",
            "          ethnicity       0.94      0.95      0.95       774\n",
            "             gender       0.91      0.83      0.87       744\n",
            "  not_cyberbullying       0.73      0.73      0.73       850\n",
            "other_cyberbullying       0.68      0.70      0.69       781\n",
            "           religion       0.94      0.96      0.95       790\n",
            "\n",
            "           accuracy                           0.86      4739\n",
            "          macro avg       0.86      0.86      0.86      4739\n",
            "       weighted avg       0.86      0.86      0.86      4739\n",
            "\n"
          ]
        }
      ],
      "source": [
        "print(classification_report(preds_df['cyberbullying_type'], preds_df['result']))"
      ]
    },
    {
      "cell_type": "code",
      "execution_count": null,
      "metadata": {
        "id": "8unO9okHgat2"
      },
      "outputs": [],
      "source": [
        "df = pd.read_csv('/content/tweet.csv')\n",
        "df['tweet_text'] = df['tweet_text'].apply(textClean)\n",
        "new_data = spark.createDataFrame(df)\n",
        "# predictions = pipelineModel.transform(new_data)\n",
        "# pred =predictions.select('tweet_text',\"class.result\")\n",
        "# dir(PretrainedPipeline)\n",
        "pipeline  = PretrainedPipeline.from_disk('/content/drive/MyDrive/NLP/Models/pipelineModel/newdatamodel')\n",
        "preds = pipeline.transform(new_data)\n",
        "pred =preds.select('tweet_text',\"class.result\")\n",
        "validated_paras = pred.toPandas()"
      ]
    },
    {
      "cell_type": "code",
      "source": [
        "validated_paras"
      ],
      "metadata": {
        "id": "glL62zNoDx3k",
        "colab": {
          "base_uri": "https://localhost:8080/",
          "height": 405
        },
        "outputId": "6a912a4d-1c1b-43fa-f760-1c239cec08fa"
      },
      "execution_count": null,
      "outputs": [
        {
          "output_type": "execute_result",
          "data": {
            "text/plain": [
              "                                          tweet_text                 result\n",
              "0                 @KariLake @JoeBiden Go away, loser  [other_cyberbullying]\n",
              "1  @ACTBrigitte Joe Biden was, we were just distr...    [not_cyberbullying]\n",
              "2  @simonateba @WhiteHouse @JoeBiden Humm, yet he...    [not_cyberbullying]\n",
              "3  Service fees are made up. Gotta pay niggas to ...            [ethnicity]\n",
              "4  @JoeBiden Joe, please deeply look at yourself....  [other_cyberbullying]\n",
              "5      @FirstCupCoffee2 @JoeBiden In what way Maria?    [not_cyberbullying]\n",
              "6  @AvgJoe444 @KariLake @JoeBiden Trump certainly...    [not_cyberbullying]\n",
              "7  @KamalaHarris @JoeBiden You misspelled  Ukrain...    [not_cyberbullying]\n",
              "8  @RaheemKassam Ed.D. Wrote a thesis about junio...                  [age]\n",
              "9  @POTUS Is Joe Biden, the president of Ukraine?...            [ethnicity]"
            ],
            "text/html": [
              "\n",
              "  <div id=\"df-a1beb6f5-ba4b-4933-b9f7-833aea533c6c\">\n",
              "    <div class=\"colab-df-container\">\n",
              "      <div>\n",
              "<style scoped>\n",
              "    .dataframe tbody tr th:only-of-type {\n",
              "        vertical-align: middle;\n",
              "    }\n",
              "\n",
              "    .dataframe tbody tr th {\n",
              "        vertical-align: top;\n",
              "    }\n",
              "\n",
              "    .dataframe thead th {\n",
              "        text-align: right;\n",
              "    }\n",
              "</style>\n",
              "<table border=\"1\" class=\"dataframe\">\n",
              "  <thead>\n",
              "    <tr style=\"text-align: right;\">\n",
              "      <th></th>\n",
              "      <th>tweet_text</th>\n",
              "      <th>result</th>\n",
              "    </tr>\n",
              "  </thead>\n",
              "  <tbody>\n",
              "    <tr>\n",
              "      <th>0</th>\n",
              "      <td>@KariLake @JoeBiden Go away, loser</td>\n",
              "      <td>[other_cyberbullying]</td>\n",
              "    </tr>\n",
              "    <tr>\n",
              "      <th>1</th>\n",
              "      <td>@ACTBrigitte Joe Biden was, we were just distr...</td>\n",
              "      <td>[not_cyberbullying]</td>\n",
              "    </tr>\n",
              "    <tr>\n",
              "      <th>2</th>\n",
              "      <td>@simonateba @WhiteHouse @JoeBiden Humm, yet he...</td>\n",
              "      <td>[not_cyberbullying]</td>\n",
              "    </tr>\n",
              "    <tr>\n",
              "      <th>3</th>\n",
              "      <td>Service fees are made up. Gotta pay niggas to ...</td>\n",
              "      <td>[ethnicity]</td>\n",
              "    </tr>\n",
              "    <tr>\n",
              "      <th>4</th>\n",
              "      <td>@JoeBiden Joe, please deeply look at yourself....</td>\n",
              "      <td>[other_cyberbullying]</td>\n",
              "    </tr>\n",
              "    <tr>\n",
              "      <th>5</th>\n",
              "      <td>@FirstCupCoffee2 @JoeBiden In what way Maria?</td>\n",
              "      <td>[not_cyberbullying]</td>\n",
              "    </tr>\n",
              "    <tr>\n",
              "      <th>6</th>\n",
              "      <td>@AvgJoe444 @KariLake @JoeBiden Trump certainly...</td>\n",
              "      <td>[not_cyberbullying]</td>\n",
              "    </tr>\n",
              "    <tr>\n",
              "      <th>7</th>\n",
              "      <td>@KamalaHarris @JoeBiden You misspelled  Ukrain...</td>\n",
              "      <td>[not_cyberbullying]</td>\n",
              "    </tr>\n",
              "    <tr>\n",
              "      <th>8</th>\n",
              "      <td>@RaheemKassam Ed.D. Wrote a thesis about junio...</td>\n",
              "      <td>[age]</td>\n",
              "    </tr>\n",
              "    <tr>\n",
              "      <th>9</th>\n",
              "      <td>@POTUS Is Joe Biden, the president of Ukraine?...</td>\n",
              "      <td>[ethnicity]</td>\n",
              "    </tr>\n",
              "  </tbody>\n",
              "</table>\n",
              "</div>\n",
              "      <button class=\"colab-df-convert\" onclick=\"convertToInteractive('df-a1beb6f5-ba4b-4933-b9f7-833aea533c6c')\"\n",
              "              title=\"Convert this dataframe to an interactive table.\"\n",
              "              style=\"display:none;\">\n",
              "        \n",
              "  <svg xmlns=\"http://www.w3.org/2000/svg\" height=\"24px\"viewBox=\"0 0 24 24\"\n",
              "       width=\"24px\">\n",
              "    <path d=\"M0 0h24v24H0V0z\" fill=\"none\"/>\n",
              "    <path d=\"M18.56 5.44l.94 2.06.94-2.06 2.06-.94-2.06-.94-.94-2.06-.94 2.06-2.06.94zm-11 1L8.5 8.5l.94-2.06 2.06-.94-2.06-.94L8.5 2.5l-.94 2.06-2.06.94zm10 10l.94 2.06.94-2.06 2.06-.94-2.06-.94-.94-2.06-.94 2.06-2.06.94z\"/><path d=\"M17.41 7.96l-1.37-1.37c-.4-.4-.92-.59-1.43-.59-.52 0-1.04.2-1.43.59L10.3 9.45l-7.72 7.72c-.78.78-.78 2.05 0 2.83L4 21.41c.39.39.9.59 1.41.59.51 0 1.02-.2 1.41-.59l7.78-7.78 2.81-2.81c.8-.78.8-2.07 0-2.86zM5.41 20L4 18.59l7.72-7.72 1.47 1.35L5.41 20z\"/>\n",
              "  </svg>\n",
              "      </button>\n",
              "      \n",
              "  <style>\n",
              "    .colab-df-container {\n",
              "      display:flex;\n",
              "      flex-wrap:wrap;\n",
              "      gap: 12px;\n",
              "    }\n",
              "\n",
              "    .colab-df-convert {\n",
              "      background-color: #E8F0FE;\n",
              "      border: none;\n",
              "      border-radius: 50%;\n",
              "      cursor: pointer;\n",
              "      display: none;\n",
              "      fill: #1967D2;\n",
              "      height: 32px;\n",
              "      padding: 0 0 0 0;\n",
              "      width: 32px;\n",
              "    }\n",
              "\n",
              "    .colab-df-convert:hover {\n",
              "      background-color: #E2EBFA;\n",
              "      box-shadow: 0px 1px 2px rgba(60, 64, 67, 0.3), 0px 1px 3px 1px rgba(60, 64, 67, 0.15);\n",
              "      fill: #174EA6;\n",
              "    }\n",
              "\n",
              "    [theme=dark] .colab-df-convert {\n",
              "      background-color: #3B4455;\n",
              "      fill: #D2E3FC;\n",
              "    }\n",
              "\n",
              "    [theme=dark] .colab-df-convert:hover {\n",
              "      background-color: #434B5C;\n",
              "      box-shadow: 0px 1px 3px 1px rgba(0, 0, 0, 0.15);\n",
              "      filter: drop-shadow(0px 1px 2px rgba(0, 0, 0, 0.3));\n",
              "      fill: #FFFFFF;\n",
              "    }\n",
              "  </style>\n",
              "\n",
              "      <script>\n",
              "        const buttonEl =\n",
              "          document.querySelector('#df-a1beb6f5-ba4b-4933-b9f7-833aea533c6c button.colab-df-convert');\n",
              "        buttonEl.style.display =\n",
              "          google.colab.kernel.accessAllowed ? 'block' : 'none';\n",
              "\n",
              "        async function convertToInteractive(key) {\n",
              "          const element = document.querySelector('#df-a1beb6f5-ba4b-4933-b9f7-833aea533c6c');\n",
              "          const dataTable =\n",
              "            await google.colab.kernel.invokeFunction('convertToInteractive',\n",
              "                                                     [key], {});\n",
              "          if (!dataTable) return;\n",
              "\n",
              "          const docLinkHtml = 'Like what you see? Visit the ' +\n",
              "            '<a target=\"_blank\" href=https://colab.research.google.com/notebooks/data_table.ipynb>data table notebook</a>'\n",
              "            + ' to learn more about interactive tables.';\n",
              "          element.innerHTML = '';\n",
              "          dataTable['output_type'] = 'display_data';\n",
              "          await google.colab.output.renderOutput(dataTable, element);\n",
              "          const docLink = document.createElement('div');\n",
              "          docLink.innerHTML = docLinkHtml;\n",
              "          element.appendChild(docLink);\n",
              "        }\n",
              "      </script>\n",
              "    </div>\n",
              "  </div>\n",
              "  "
            ]
          },
          "metadata": {},
          "execution_count": 44
        }
      ]
    },
    {
      "cell_type": "code",
      "source": [
        "validated_paras.to_csv('/content/joe_biden_tweets.csv',index=False)"
      ],
      "metadata": {
        "id": "NskEh7rwBS2w"
      },
      "execution_count": null,
      "outputs": []
    },
    {
      "cell_type": "markdown",
      "metadata": {
        "id": "E7Pny6kLKQI5"
      },
      "source": [
        "## Loading Saved Pipeline"
      ]
    },
    {
      "cell_type": "code",
      "execution_count": null,
      "metadata": {
        "id": "qrgTSxxSKh62",
        "colab": {
          "base_uri": "https://localhost:8080/"
        },
        "outputId": "bdbfd896-6665-4abc-cb25-18fce8cfa7a3"
      },
      "outputs": [
        {
          "output_type": "stream",
          "name": "stdout",
          "text": [
            "+--------------------+\n",
            "|          tweet_text|\n",
            "+--------------------+\n",
            "|You're too old to...|\n",
            "|Why don't you jus...|\n",
            "|Stop trying to ac...|\n",
            "|Women belong in t...|\n",
            "|Men are so stupid...|\n",
            "|Transgender peopl...|\n",
            "|I don't want to s...|\n",
            "|You're only succe...|\n",
            "|I'm not going to ...|\n",
            "|Your religion is ...|\n",
            "|Jews control the ...|\n",
            "|Christians are so...|\n",
            "|You're such a los...|\n",
            "|Nobody likes you,...|\n",
            "|You're so ugly, n...|\n",
            "|I just finished a...|\n",
            "|The sunset over t...|\n",
            "|I'm so excited fo...|\n",
            "+--------------------+\n",
            "\n"
          ]
        }
      ],
      "source": [
        "tweets = [\"You're too old to be playing video games, why don't you grow up and act your age? #ageism #cyberbullying\",\n",
        "          \"Why don't you just retire and leave the workforce to people who actually know what they're doing? #ageist #useless\",\n",
        "          \"Stop trying to act like a teenager, you're clearly not cool anymore #oldie #loser\",\n",
        "          \"Women belong in the kitchen, not in positions of power #sexist #misogynist\",\n",
        "          \"Men are so stupid, they can't even handle basic tasks #stereotyping #sexism\",\n",
        "          \"Transgender people aren't real, they're just confused and attention-seeking #transphobia #ignorance\",\n",
        "          \"I don't want to sit next to you on the bus, you might have coronavirus because you're Asian #racist #ignorance\",\n",
        "          \"You're only successful because of affirmative action, not because of your own merit #racist #biased\",\n",
        "          \"I'm not going to hire someone with a name like that, they're probably not even from here.#discrimination #prejudice\",\n",
        "          \"Your religion is a cult and brainwashes people. #hate #religiouscriticism\",\n",
        "          \"Jews control the world, they're the reason for all our problems #anti-semitism #conspiracytheory\",\n",
        "          \"Christians are so stupid, they believe in a fairy tale #religiousintolerance #ignorance\",\n",
        "          \"You're such a loser, you can't even get a single like on your posts #onlinebullying #harassment\",\n",
        "          \"Nobody likes you, you should just kill yourself and do everyone a favor #cyberbullying #abuse\",\n",
        "          \"You're so ugly, no wonder nobody wants to be seen with you #bodyshaming #onlinehate\",\n",
        "          \"I just finished a great workout at the gym, feeling energized and ready for the day! #fitness #health\",\n",
        "          \"The sunset over the ocean is so beautiful, I feel grateful to be alive to see it #nature #gratitude\",\n",
        "          \"I'm so excited for the new movie coming out this weekend, can't wait to see it with my friends! #entertainment #fun\"]\n",
        "\n",
        "df = pd.DataFrame(tweets)\n",
        "df.columns = ['tweet_text']\n",
        "sparkdf = spark.createDataFrame(df)\n",
        "sparkdf.show()"
      ]
    },
    {
      "cell_type": "code",
      "source": [
        "# predictions = pipelineModel.transform(sparkdf)\n",
        "# pred =predictions.select('tweet_text',\"class.result\")\n",
        "# pred.toPandas()"
      ],
      "metadata": {
        "id": "qC3vTrmpIxgh"
      },
      "execution_count": null,
      "outputs": []
    },
    {
      "cell_type": "code",
      "source": [
        "pipeline  = PretrainedPipeline.from_disk('/content/drive/MyDrive/NLP/Models/pipelineModel/auc_88.53')"
      ],
      "metadata": {
        "id": "LuqjUVs0pULe"
      },
      "execution_count": null,
      "outputs": []
    },
    {
      "cell_type": "code",
      "execution_count": null,
      "metadata": {
        "id": "oDEjylAa3eEJ",
        "colab": {
          "base_uri": "https://localhost:8080/",
          "height": 495
        },
        "outputId": "2d461133-d49d-4549-8490-d4968edd21f7"
      },
      "outputs": [
        {
          "output_type": "execute_result",
          "data": {
            "text/plain": [
              "                                           tweet_text                 result\n",
              "0   You're too old to be playing video games, why ...                  [age]\n",
              "1   Why don't you just retire and leave the workfo...            [ethnicity]\n",
              "2   Stop trying to act like a teenager, you're cle...                  [age]\n",
              "3   Women belong in the kitchen, not in positions ...               [gender]\n",
              "4   Men are so stupid, they can't even handle basi...               [gender]\n",
              "5   Transgender people aren't real, they're just c...               [gender]\n",
              "6   I don't want to sit next to you on the bus, yo...            [ethnicity]\n",
              "7   You're only successful because of affirmative ...            [ethnicity]\n",
              "8   I'm not going to hire someone with a name like...  [other_cyberbullying]\n",
              "9   Your religion is a cult and brainwashes people...             [religion]\n",
              "10  Jews control the world, they're the reason for...             [religion]\n",
              "11  Christians are so stupid, they believe in a fa...             [religion]\n",
              "12  You're such a loser, you can't even get a sing...  [other_cyberbullying]\n",
              "13  Nobody likes you, you should just kill yoursel...  [other_cyberbullying]\n",
              "14  You're so ugly, no wonder nobody wants to be s...               [gender]\n",
              "15  I just finished a great workout at the gym, fe...    [not_cyberbullying]\n",
              "16  The sunset over the ocean is so beautiful, I f...    [not_cyberbullying]\n",
              "17  I'm so excited for the new movie coming out th...    [not_cyberbullying]"
            ],
            "text/html": [
              "\n",
              "  <div id=\"df-5e801563-d5ad-43df-95ce-9eb49478b36f\">\n",
              "    <div class=\"colab-df-container\">\n",
              "      <div>\n",
              "<style scoped>\n",
              "    .dataframe tbody tr th:only-of-type {\n",
              "        vertical-align: middle;\n",
              "    }\n",
              "\n",
              "    .dataframe tbody tr th {\n",
              "        vertical-align: top;\n",
              "    }\n",
              "\n",
              "    .dataframe thead th {\n",
              "        text-align: right;\n",
              "    }\n",
              "</style>\n",
              "<table border=\"1\" class=\"dataframe\">\n",
              "  <thead>\n",
              "    <tr style=\"text-align: right;\">\n",
              "      <th></th>\n",
              "      <th>tweet_text</th>\n",
              "      <th>result</th>\n",
              "    </tr>\n",
              "  </thead>\n",
              "  <tbody>\n",
              "    <tr>\n",
              "      <th>0</th>\n",
              "      <td>You're too old to be playing video games, why ...</td>\n",
              "      <td>[age]</td>\n",
              "    </tr>\n",
              "    <tr>\n",
              "      <th>1</th>\n",
              "      <td>Why don't you just retire and leave the workfo...</td>\n",
              "      <td>[ethnicity]</td>\n",
              "    </tr>\n",
              "    <tr>\n",
              "      <th>2</th>\n",
              "      <td>Stop trying to act like a teenager, you're cle...</td>\n",
              "      <td>[age]</td>\n",
              "    </tr>\n",
              "    <tr>\n",
              "      <th>3</th>\n",
              "      <td>Women belong in the kitchen, not in positions ...</td>\n",
              "      <td>[gender]</td>\n",
              "    </tr>\n",
              "    <tr>\n",
              "      <th>4</th>\n",
              "      <td>Men are so stupid, they can't even handle basi...</td>\n",
              "      <td>[gender]</td>\n",
              "    </tr>\n",
              "    <tr>\n",
              "      <th>5</th>\n",
              "      <td>Transgender people aren't real, they're just c...</td>\n",
              "      <td>[gender]</td>\n",
              "    </tr>\n",
              "    <tr>\n",
              "      <th>6</th>\n",
              "      <td>I don't want to sit next to you on the bus, yo...</td>\n",
              "      <td>[ethnicity]</td>\n",
              "    </tr>\n",
              "    <tr>\n",
              "      <th>7</th>\n",
              "      <td>You're only successful because of affirmative ...</td>\n",
              "      <td>[ethnicity]</td>\n",
              "    </tr>\n",
              "    <tr>\n",
              "      <th>8</th>\n",
              "      <td>I'm not going to hire someone with a name like...</td>\n",
              "      <td>[other_cyberbullying]</td>\n",
              "    </tr>\n",
              "    <tr>\n",
              "      <th>9</th>\n",
              "      <td>Your religion is a cult and brainwashes people...</td>\n",
              "      <td>[religion]</td>\n",
              "    </tr>\n",
              "    <tr>\n",
              "      <th>10</th>\n",
              "      <td>Jews control the world, they're the reason for...</td>\n",
              "      <td>[religion]</td>\n",
              "    </tr>\n",
              "    <tr>\n",
              "      <th>11</th>\n",
              "      <td>Christians are so stupid, they believe in a fa...</td>\n",
              "      <td>[religion]</td>\n",
              "    </tr>\n",
              "    <tr>\n",
              "      <th>12</th>\n",
              "      <td>You're such a loser, you can't even get a sing...</td>\n",
              "      <td>[other_cyberbullying]</td>\n",
              "    </tr>\n",
              "    <tr>\n",
              "      <th>13</th>\n",
              "      <td>Nobody likes you, you should just kill yoursel...</td>\n",
              "      <td>[other_cyberbullying]</td>\n",
              "    </tr>\n",
              "    <tr>\n",
              "      <th>14</th>\n",
              "      <td>You're so ugly, no wonder nobody wants to be s...</td>\n",
              "      <td>[gender]</td>\n",
              "    </tr>\n",
              "    <tr>\n",
              "      <th>15</th>\n",
              "      <td>I just finished a great workout at the gym, fe...</td>\n",
              "      <td>[not_cyberbullying]</td>\n",
              "    </tr>\n",
              "    <tr>\n",
              "      <th>16</th>\n",
              "      <td>The sunset over the ocean is so beautiful, I f...</td>\n",
              "      <td>[not_cyberbullying]</td>\n",
              "    </tr>\n",
              "    <tr>\n",
              "      <th>17</th>\n",
              "      <td>I'm so excited for the new movie coming out th...</td>\n",
              "      <td>[not_cyberbullying]</td>\n",
              "    </tr>\n",
              "  </tbody>\n",
              "</table>\n",
              "</div>\n",
              "      <button class=\"colab-df-convert\" onclick=\"convertToInteractive('df-5e801563-d5ad-43df-95ce-9eb49478b36f')\"\n",
              "              title=\"Convert this dataframe to an interactive table.\"\n",
              "              style=\"display:none;\">\n",
              "        \n",
              "  <svg xmlns=\"http://www.w3.org/2000/svg\" height=\"24px\"viewBox=\"0 0 24 24\"\n",
              "       width=\"24px\">\n",
              "    <path d=\"M0 0h24v24H0V0z\" fill=\"none\"/>\n",
              "    <path d=\"M18.56 5.44l.94 2.06.94-2.06 2.06-.94-2.06-.94-.94-2.06-.94 2.06-2.06.94zm-11 1L8.5 8.5l.94-2.06 2.06-.94-2.06-.94L8.5 2.5l-.94 2.06-2.06.94zm10 10l.94 2.06.94-2.06 2.06-.94-2.06-.94-.94-2.06-.94 2.06-2.06.94z\"/><path d=\"M17.41 7.96l-1.37-1.37c-.4-.4-.92-.59-1.43-.59-.52 0-1.04.2-1.43.59L10.3 9.45l-7.72 7.72c-.78.78-.78 2.05 0 2.83L4 21.41c.39.39.9.59 1.41.59.51 0 1.02-.2 1.41-.59l7.78-7.78 2.81-2.81c.8-.78.8-2.07 0-2.86zM5.41 20L4 18.59l7.72-7.72 1.47 1.35L5.41 20z\"/>\n",
              "  </svg>\n",
              "      </button>\n",
              "      \n",
              "  <style>\n",
              "    .colab-df-container {\n",
              "      display:flex;\n",
              "      flex-wrap:wrap;\n",
              "      gap: 12px;\n",
              "    }\n",
              "\n",
              "    .colab-df-convert {\n",
              "      background-color: #E8F0FE;\n",
              "      border: none;\n",
              "      border-radius: 50%;\n",
              "      cursor: pointer;\n",
              "      display: none;\n",
              "      fill: #1967D2;\n",
              "      height: 32px;\n",
              "      padding: 0 0 0 0;\n",
              "      width: 32px;\n",
              "    }\n",
              "\n",
              "    .colab-df-convert:hover {\n",
              "      background-color: #E2EBFA;\n",
              "      box-shadow: 0px 1px 2px rgba(60, 64, 67, 0.3), 0px 1px 3px 1px rgba(60, 64, 67, 0.15);\n",
              "      fill: #174EA6;\n",
              "    }\n",
              "\n",
              "    [theme=dark] .colab-df-convert {\n",
              "      background-color: #3B4455;\n",
              "      fill: #D2E3FC;\n",
              "    }\n",
              "\n",
              "    [theme=dark] .colab-df-convert:hover {\n",
              "      background-color: #434B5C;\n",
              "      box-shadow: 0px 1px 3px 1px rgba(0, 0, 0, 0.15);\n",
              "      filter: drop-shadow(0px 1px 2px rgba(0, 0, 0, 0.3));\n",
              "      fill: #FFFFFF;\n",
              "    }\n",
              "  </style>\n",
              "\n",
              "      <script>\n",
              "        const buttonEl =\n",
              "          document.querySelector('#df-5e801563-d5ad-43df-95ce-9eb49478b36f button.colab-df-convert');\n",
              "        buttonEl.style.display =\n",
              "          google.colab.kernel.accessAllowed ? 'block' : 'none';\n",
              "\n",
              "        async function convertToInteractive(key) {\n",
              "          const element = document.querySelector('#df-5e801563-d5ad-43df-95ce-9eb49478b36f');\n",
              "          const dataTable =\n",
              "            await google.colab.kernel.invokeFunction('convertToInteractive',\n",
              "                                                     [key], {});\n",
              "          if (!dataTable) return;\n",
              "\n",
              "          const docLinkHtml = 'Like what you see? Visit the ' +\n",
              "            '<a target=\"_blank\" href=https://colab.research.google.com/notebooks/data_table.ipynb>data table notebook</a>'\n",
              "            + ' to learn more about interactive tables.';\n",
              "          element.innerHTML = '';\n",
              "          dataTable['output_type'] = 'display_data';\n",
              "          await google.colab.output.renderOutput(dataTable, element);\n",
              "          const docLink = document.createElement('div');\n",
              "          docLink.innerHTML = docLinkHtml;\n",
              "          element.appendChild(docLink);\n",
              "        }\n",
              "      </script>\n",
              "    </div>\n",
              "  </div>\n",
              "  "
            ]
          },
          "metadata": {},
          "execution_count": 19
        }
      ],
      "source": [
        "# dir(PretrainedPipeline)\n",
        "preds = pipeline.transform(sparkdf)\n",
        "pred =preds.select('tweet_text',\"class.result\")\n",
        "pred.toPandas()"
      ]
    },
    {
      "cell_type": "code",
      "source": [],
      "metadata": {
        "id": "8VnC_rq7n3ni"
      },
      "execution_count": null,
      "outputs": []
    }
  ],
  "metadata": {
    "accelerator": "GPU",
    "colab": {
      "provenance": []
    },
    "gpuClass": "standard",
    "kernelspec": {
      "display_name": "Python 3",
      "name": "python3"
    },
    "language_info": {
      "name": "python"
    }
  },
  "nbformat": 4,
  "nbformat_minor": 0
}