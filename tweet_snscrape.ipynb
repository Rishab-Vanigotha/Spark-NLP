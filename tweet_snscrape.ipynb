{
 "cells": [
  {
   "cell_type": "code",
   "execution_count": 1,
   "metadata": {},
   "outputs": [],
   "source": [
    "import warnings\n",
    "warnings.filterwarnings('ignore')"
   ]
  },
  {
   "cell_type": "code",
   "execution_count": 2,
   "metadata": {},
   "outputs": [],
   "source": [
    "import pandas as pd\n",
    "pd.set_option('display.max_columns', None)\n",
    "pd.set_option('display.expand_frame_repr', False)\n",
    "pd.set_option('max_colwidth', -1)"
   ]
  },
  {
   "cell_type": "code",
   "execution_count": 3,
   "metadata": {},
   "outputs": [
    {
     "data": {
      "text/html": [
       "<div>\n",
       "<style scoped>\n",
       "    .dataframe tbody tr th:only-of-type {\n",
       "        vertical-align: middle;\n",
       "    }\n",
       "\n",
       "    .dataframe tbody tr th {\n",
       "        vertical-align: top;\n",
       "    }\n",
       "\n",
       "    .dataframe thead th {\n",
       "        text-align: right;\n",
       "    }\n",
       "</style>\n",
       "<table border=\"1\" class=\"dataframe\">\n",
       "  <thead>\n",
       "    <tr style=\"text-align: right;\">\n",
       "      <th></th>\n",
       "      <th>Datetime</th>\n",
       "      <th>Tweet Id</th>\n",
       "      <th>Text</th>\n",
       "      <th>Username</th>\n",
       "      <th>Lang</th>\n",
       "    </tr>\n",
       "  </thead>\n",
       "  <tbody>\n",
       "    <tr>\n",
       "      <th>0</th>\n",
       "      <td>2022-10-30 23:59:33+00:00</td>\n",
       "      <td>1586870452156510208</td>\n",
       "      <td>@narendramodi हरि ॐ!!</td>\n",
       "      <td>dhirajgupta123</td>\n",
       "      <td>hi</td>\n",
       "    </tr>\n",
       "    <tr>\n",
       "      <th>1</th>\n",
       "      <td>2022-10-30 23:59:28+00:00</td>\n",
       "      <td>1586870434091257857</td>\n",
       "      <td>@narendramodi @Pradeep55616241 🙏🏻🙏🏻जय छठी मैया की जय हो🙏🏻🙏🏻 https://t.co/W9wRxFzQrV</td>\n",
       "      <td>DevPrak20136652</td>\n",
       "      <td>hi</td>\n",
       "    </tr>\n",
       "    <tr>\n",
       "      <th>2</th>\n",
       "      <td>2022-10-30 23:59:19+00:00</td>\n",
       "      <td>1586870394304303105</td>\n",
       "      <td>@priyankac19 @narendramodi sponsored troll @MrsGandhi</td>\n",
       "      <td>ishwarch</td>\n",
       "      <td>en</td>\n",
       "    </tr>\n",
       "    <tr>\n",
       "      <th>3</th>\n",
       "      <td>2022-10-30 23:59:00+00:00</td>\n",
       "      <td>1586870315883589632</td>\n",
       "      <td>This is the height of corruption Mr @narendramodi</td>\n",
       "      <td>MohanKu37166575</td>\n",
       "      <td>en</td>\n",
       "    </tr>\n",
       "    <tr>\n",
       "      <th>4</th>\n",
       "      <td>2022-10-30 23:58:55+00:00</td>\n",
       "      <td>1586870294232244225</td>\n",
       "      <td>@narendramodi दिव्य पुरुष की जन्मदात्री परम पूज्य माताजी हीरा बा के 100वें जन्म दिवस पर इंदौर नागर ब्राह्मण समाज द्वारा उनके स्वस्थ दीर्घायु जीवन के लिए विश्व प्रसिद्ध खजराना गणेश मंदिर पर प्रार्थना की गई https://t.co/XCGZHVHTGE</td>\n",
       "      <td>kedarrawal6</td>\n",
       "      <td>hi</td>\n",
       "    </tr>\n",
       "  </tbody>\n",
       "</table>\n",
       "</div>"
      ],
      "text/plain": [
       "                   Datetime             Tweet Id                                                                                                                                                                                                                                  Text         Username Lang\n",
       "0 2022-10-30 23:59:33+00:00  1586870452156510208  @narendramodi हरि ॐ!!                                                                                                                                                                                                                 dhirajgupta123   hi \n",
       "1 2022-10-30 23:59:28+00:00  1586870434091257857  @narendramodi @Pradeep55616241 🙏🏻🙏🏻जय छठी मैया की जय हो🙏🏻🙏🏻 https://t.co/W9wRxFzQrV                                                                                                                                                   DevPrak20136652  hi \n",
       "2 2022-10-30 23:59:19+00:00  1586870394304303105  @priyankac19 @narendramodi sponsored troll @MrsGandhi                                                                                                                                                                                 ishwarch         en \n",
       "3 2022-10-30 23:59:00+00:00  1586870315883589632  This is the height of corruption Mr @narendramodi                                                                                                                                                                                     MohanKu37166575  en \n",
       "4 2022-10-30 23:58:55+00:00  1586870294232244225  @narendramodi दिव्य पुरुष की जन्मदात्री परम पूज्य माताजी हीरा बा के 100वें जन्म दिवस पर इंदौर नागर ब्राह्मण समाज द्वारा उनके स्वस्थ दीर्घायु जीवन के लिए विश्व प्रसिद्ध खजराना गणेश मंदिर पर प्रार्थना की गई https://t.co/XCGZHVHTGE  kedarrawal6      hi "
      ]
     },
     "execution_count": 3,
     "metadata": {},
     "output_type": "execute_result"
    }
   ],
   "source": [
    "import snscrape.modules.twitter as sntwitter\n",
    "\n",
    "\n",
    "# Creating list to append tweet data \n",
    "tweets_list1 = []\n",
    "\n",
    "# Using TwitterSearchScraper to scrape data and append tweets to list\n",
    "for i,tweet in enumerate(sntwitter.TwitterSearchScraper('Narendra modi since:2022-10-30 until:2022-10-31').get_items()): #declare a username \n",
    "    if i>100: #number of tweets you want to scrape\n",
    "        break\n",
    "    tweets_list1.append([tweet.date, tweet.id, tweet.content, tweet.username, tweet.lang]) #declare the attributes to be returned\n",
    "    \n",
    "# Creating a dataframe from the tweets list above \n",
    "tweets_df1 = pd.DataFrame(tweets_list1, columns=['Datetime', 'Tweet Id', 'Text', 'Username', 'Lang'])\n",
    "\n",
    "tweets_df1.head()"
   ]
  },
  {
   "cell_type": "code",
   "execution_count": 13,
   "metadata": {},
   "outputs": [
    {
     "data": {
      "text/html": [
       "<div>\n",
       "<style scoped>\n",
       "    .dataframe tbody tr th:only-of-type {\n",
       "        vertical-align: middle;\n",
       "    }\n",
       "\n",
       "    .dataframe tbody tr th {\n",
       "        vertical-align: top;\n",
       "    }\n",
       "\n",
       "    .dataframe thead th {\n",
       "        text-align: right;\n",
       "    }\n",
       "</style>\n",
       "<table border=\"1\" class=\"dataframe\">\n",
       "  <thead>\n",
       "    <tr style=\"text-align: right;\">\n",
       "      <th></th>\n",
       "      <th>Datetime</th>\n",
       "      <th>Tweet Id</th>\n",
       "      <th>Text</th>\n",
       "      <th>Username</th>\n",
       "      <th>Lang</th>\n",
       "    </tr>\n",
       "  </thead>\n",
       "  <tbody>\n",
       "    <tr>\n",
       "      <th>2</th>\n",
       "      <td>2022-10-30 23:59:19+00:00</td>\n",
       "      <td>1586870394304303105</td>\n",
       "      <td>@priyankac19 @narendramodi sponsored troll @MrsGandhi</td>\n",
       "      <td>ishwarch</td>\n",
       "      <td>en</td>\n",
       "    </tr>\n",
       "    <tr>\n",
       "      <th>3</th>\n",
       "      <td>2022-10-30 23:59:00+00:00</td>\n",
       "      <td>1586870315883589632</td>\n",
       "      <td>This is the height of corruption Mr @narendramodi</td>\n",
       "      <td>MohanKu37166575</td>\n",
       "      <td>en</td>\n",
       "    </tr>\n",
       "    <tr>\n",
       "      <th>7</th>\n",
       "      <td>2022-10-30 23:58:27+00:00</td>\n",
       "      <td>1586870177131802624</td>\n",
       "      <td>@f3arl3ssIndian @narendramodi Wish you a Great Birthday Dear Mayank.</td>\n",
       "      <td>arungupta5253</td>\n",
       "      <td>en</td>\n",
       "    </tr>\n",
       "  </tbody>\n",
       "</table>\n",
       "</div>"
      ],
      "text/plain": [
       "                   Datetime             Tweet Id                                                                  Text         Username Lang\n",
       "2 2022-10-30 23:59:19+00:00  1586870394304303105  @priyankac19 @narendramodi sponsored troll @MrsGandhi                 ishwarch         en \n",
       "3 2022-10-30 23:59:00+00:00  1586870315883589632  This is the height of corruption Mr @narendramodi                     MohanKu37166575  en \n",
       "7 2022-10-30 23:58:27+00:00  1586870177131802624  @f3arl3ssIndian @narendramodi Wish you a Great Birthday Dear Mayank.  arungupta5253    en "
      ]
     },
     "execution_count": 13,
     "metadata": {},
     "output_type": "execute_result"
    }
   ],
   "source": [
    "tweets_df1.columns\n",
    "df = tweets_df1[tweets_df1['Lang']=='en']\n",
    "df.head(3)"
   ]
  },
  {
   "cell_type": "code",
   "execution_count": 14,
   "metadata": {},
   "outputs": [],
   "source": [
    "df = df[['Text']][:10]\n",
    "df.rename(columns={\"Text\":'tweet_text'},inplace=True)\n"
   ]
  },
  {
   "cell_type": "code",
   "execution_count": 15,
   "metadata": {},
   "outputs": [
    {
     "data": {
      "text/plain": [
       "(10, 1)"
      ]
     },
     "execution_count": 15,
     "metadata": {},
     "output_type": "execute_result"
    }
   ],
   "source": [
    "df.shape"
   ]
  },
  {
   "cell_type": "code",
   "execution_count": 26,
   "metadata": {},
   "outputs": [],
   "source": [
    "df.to_csv('tweet.csv',index = False, sep = ',')"
   ]
  },
  {
   "cell_type": "code",
   "execution_count": 21,
   "metadata": {},
   "outputs": [],
   "source": [
    "# import itertools\n",
    "# df1 = pd.DataFrame(itertools.islice(sntwitter.TwitterSearchScraper(\n",
    "#     '\"#vaccine\"').get_items(),100))"
   ]
  },
  {
   "cell_type": "code",
   "execution_count": 24,
   "metadata": {},
   "outputs": [
    {
     "data": {
      "text/plain": [
       "Index(['url', 'date', 'rawContent', 'renderedContent', 'id', 'user',\n",
       "       'replyCount', 'retweetCount', 'likeCount', 'quoteCount',\n",
       "       'conversationId', 'lang', 'source', 'sourceUrl', 'sourceLabel', 'links',\n",
       "       'media', 'retweetedTweet', 'quotedTweet', 'inReplyToTweetId',\n",
       "       'inReplyToUser', 'mentionedUsers', 'coordinates', 'place', 'hashtags',\n",
       "       'cashtags', 'card'],\n",
       "      dtype='object')"
      ]
     },
     "execution_count": 24,
     "metadata": {},
     "output_type": "execute_result"
    }
   ],
   "source": [
    "# df1.columns"
   ]
  },
  {
   "cell_type": "code",
   "execution_count": null,
   "metadata": {},
   "outputs": [],
   "source": []
  }
 ],
 "metadata": {
  "kernelspec": {
   "display_name": "Python 3.8.0 64-bit",
   "language": "python",
   "name": "python3"
  },
  "language_info": {
   "codemirror_mode": {
    "name": "ipython",
    "version": 3
   },
   "file_extension": ".py",
   "mimetype": "text/x-python",
   "name": "python",
   "nbconvert_exporter": "python",
   "pygments_lexer": "ipython3",
   "version": "3.8.0"
  },
  "orig_nbformat": 4,
  "vscode": {
   "interpreter": {
    "hash": "494deeb4eea7fb63b62f74ba02ace728543e0003fbb675bfec79f4f4980c3f04"
   }
  }
 },
 "nbformat": 4,
 "nbformat_minor": 2
}
